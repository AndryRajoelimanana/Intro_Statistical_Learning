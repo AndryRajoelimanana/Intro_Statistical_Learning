{
 "cells": [
  {
   "cell_type": "code",
   "execution_count": 3,
   "metadata": {
    "collapsed": true
   },
   "outputs": [],
   "source": [
    "import pandas as pd\n",
    "import random\n",
    "import math\n",
    "import operator\n",
    "import numpy as np\n",
    "from IPython.display import display, HTML"
   ]
  },
  {
   "cell_type": "code",
   "execution_count": 4,
   "metadata": {
    "collapsed": false
   },
   "outputs": [
    {
     "name": "stderr",
     "output_type": "stream",
     "text": [
      "/Users/ando/anaconda/lib/python2.7/site-packages/statsmodels/compat/pandas.py:56: FutureWarning: The pandas.core.datetools module is deprecated and will be removed in a future version. Please use the pandas.tseries module instead.\n",
      "  from pandas.core import datetools\n"
     ]
    }
   ],
   "source": [
    "import statsmodels.api as sm\n",
    "from statsmodels.sandbox.regression.predstd import wls_prediction_std\n",
    "import statsmodels.formula.api as smf\n",
    "\n",
    "from sklearn import linear_model\n",
    "from sklearn import preprocessing\n",
    "from sklearn.discriminant_analysis import LinearDiscriminantAnalysis, QuadraticDiscriminantAnalysis\n",
    "from sklearn.neighbors import KNeighborsClassifier\n",
    "\n",
    "from sklearn.metrics import roc_curve, auc\n",
    "from sklearn.metrics import accuracy_score, f1_score, precision_score, recall_score, classification_report, confusion_matrix\n"
   ]
  },
  {
   "cell_type": "code",
   "execution_count": 5,
   "metadata": {
    "collapsed": false
   },
   "outputs": [],
   "source": [
    "import matplotlib.pyplot as plt\n",
    "from mpl_toolkits.mplot3d import axes3d\n",
    "import seaborn as sns\n",
    "from matplotlib import gridspec\n",
    "\n",
    "%matplotlib inline\n",
    "plt.style.use('smandry')"
   ]
  },
  {
   "cell_type": "code",
   "execution_count": 6,
   "metadata": {
    "collapsed": true
   },
   "outputs": [],
   "source": [
    "class ModelStat(object):\n",
    "    \"\"\"\n",
    "    Calculate model statistics:\n",
    "    \n",
    "    Example:\n",
    "    \n",
    "    >>> linreg = linear_model.LinearRegression()\n",
    "    >>> linreg_stat = ModelStat(linreg, advertising[['TV']], advertising.Sales)\n",
    "    >>> display(linreg_stat.results)\n",
    "    \"\"\"\n",
    "    def __init__(self, model, X, y, fit=False, linear=True, cols=None, hypothesis=0):\n",
    "        if fit:\n",
    "            model.fit(X,y)\n",
    "        self.model = model\n",
    "        self.y = y\n",
    "        self.nobs = X.shape[0]\n",
    "        self.npred = X.shape[1]\n",
    "        self.pred = model.predict(X)\n",
    "        if isinstance(X, pd.DataFrame):\n",
    "            newX = np.hstack((np.ones(self.nobs).reshape(-1,1), X.values))\n",
    "            cols = ['Intercept']+list(X.columns)\n",
    "            rankX = np.linalg.matrix_rank(X.values)\n",
    "        else:\n",
    "            newX = np.hstack((np.ones(self.nobs).reshape(-1,1), X))\n",
    "            rankX = np.linalg.matrix_rank(X)\n",
    "        self.dof = ModelStat.dof(X)\n",
    "        self.RSS = ModelStat.rss(self.y, self.pred)\n",
    "        self.MSE = ModelStat.mean_squared_error(self.y, self.pred, dof=self.dof)\n",
    "        self.TSS = ModelStat.tss(self.y)\n",
    "        self.rsquare = ModelStat.rsquare(self.y, self.pred)\n",
    "        self.rsquare_adj = ModelStat.rsquare_adj(X, self.y, self.pred)\n",
    "        model_name = str(model.__class__).replace(\"<class '\",\"\").replace(\"'>\",\"\")\n",
    "        if model_name == \"sklearn.linear_model.base.LinearRegression\":\n",
    "            self.params = np.append(model.intercept_,model.coef_)\n",
    "            self.cov_params = ModelStat.cov_matrix(newX)\n",
    "            variance = self.MSE * (self.cov_params.diagonal())\n",
    "            self.StdErr = np.sqrt(variance)\n",
    "            self.tValues = self.params/self.StdErr\n",
    "            self.pValues =[2*(1 - sc.stats.t.cdf(np.abs(i),(self.dof+1))) for i in self.tValues]\n",
    "            tppf = sc.stats.t.isf(0.025, self.dof)\n",
    "            self.confInt = [self.params-tppf*self.StdErr, self.params+tppf*self.StdErr]\n",
    "            mydf = pd.DataFrame(index=cols)\n",
    "            mydf[\"Coefs\"],mydf[\"StdErr\"],mydf[\"tValues\"],mydf[\"pValue\"] = [self.params,self.StdErr,self.tValues,self.pValues]\n",
    "            mydf[\"[0.025\"] = self.confInt[0]\n",
    "            mydf[\"0.975]\"] = self.confInt[1]\n",
    "            self.results = mydf\n",
    "        if model_name == \"sklearn.linear_model.logistic.LogisticRegression\":\n",
    "            self.params = np.append(model.intercept_,model.coef_)\n",
    "            predictions = self.predict_proba(X)\n",
    "            likelihood = np.multiply(predictions[:,0], predictions[:,1])\n",
    "            self.cov_params = ModelStat.covlogit_matrix(newX, likelihood)\n",
    "            variance = np.diag(covLogit)\n",
    "            self.StdErr = np.sqrt(variance)\n",
    "            self.tValues = self.params/self.StdErr\n",
    "            self.pValues =[2*(1 - sc.stats.t.cdf(np.abs(i),(self.dof+1))) for i in self.tValues]\n",
    "            tppf = sc.stats.t.isf(0.025, self.dof)\n",
    "            self.confInt = [self.params-tppf*self.StdErr, self.params+tppf*self.StdErr]\n",
    "            mydf = pd.DataFrame(index=cols)\n",
    "            mydf[\"Coefs\"],mydf[\"StdErr\"],mydf[\"tValues\"],mydf[\"pValue\"] = [self.params,self.StdErr,self.tValues,self.pValues]\n",
    "            mydf[\"[0.025\"] = self.confInt[0]\n",
    "            mydf[\"0.975]\"] = self.confInt[1]\n",
    "            self.results = mydf\n",
    "                        \n",
    "    @staticmethod\n",
    "    def rss(y, ypred):\n",
    "        return sum((y - ypred)**2)\n",
    "\n",
    "    @staticmethod\n",
    "    def tss(y):\n",
    "        return sum((y - y.mean())**2)\n",
    "\n",
    "    @staticmethod\n",
    "    def dof(X):\n",
    "        return X.shape[0] - np.linalg.matrix_rank(X) -1\n",
    "    \n",
    "    @staticmethod\n",
    "    def mean_squared_error(y, ypred, dof=None):\n",
    "        rss = ModelStat.rss(y, ypred)\n",
    "        if not dof: \n",
    "            dof = len(y)\n",
    "        return rss/float(dof)\n",
    "    \n",
    "    @staticmethod    \n",
    "    def rsquare(y, ypred):\n",
    "        return 1.0 - (ModelStat.rss(y, ypred)/ModelStat.tss(y))\n",
    "    \n",
    "    @staticmethod    \n",
    "    def rsquare_adj(X, y, ypred):\n",
    "        return 1.0 - ((ModelStat.rss(y, ypred)/ModelStat.tss(y))*((X.shape[0]-1)/float(X.shape[0]-X.shape[1]-1)))\n",
    "\n",
    "    @staticmethod\n",
    "    def cov_matrix(newX):\n",
    "        return np.linalg.pinv(np.dot(newX.T, newX))\n",
    "\n",
    "    @staticmethod\n",
    "    def covlogit_matrix(newX, likelihood):\n",
    "        V = np.matrix(np.zeros(shape = (newX.shape[0], newX.shape[0])))\n",
    "        np.fill_diagonal(V, likelihood)\n",
    "        return np.linalg.pinv((newX.T).dot(V).dot(newX))\n",
    "    \n",
    "    def prediction_band(self, xnew, alpha=0.05, cols=None):\n",
    "        \"\"\"\n",
    "        Prediction interval of new X (x0)\n",
    "        \n",
    "        pred +/- t * sqrt (MSE * (1 + x0' (X'X)-1 x0 )) \n",
    "        http://academic.macewan.ca/burok/Stat378/notes/moremultiple.pdf\n",
    "        \"\"\"\n",
    "        pred = self.model.predict(xnew)\n",
    "        xnew = np.hstack((np.ones(len(xnew)).reshape(-1,1), xnew))\n",
    "        predvar = self.MSE * (1.0 + (xnew * np.dot(self.cov_params, xnew.T).T).sum(1))\n",
    "        predstd = np.sqrt(predvar)\n",
    "        tppf = sc.stats.t.isf(alpha/2., self.dof)\n",
    "        interval_u = pred + tppf * predstd\n",
    "        interval_l = pred - tppf * predstd\n",
    "        if not cols: \n",
    "            cols = ['X'+str(i) for i in np.arange(xnew.shape[1]-1)]\n",
    "        table = pd.DataFrame(np.zeros((len(xnew), xnew.shape[1]-1)), columns = cols)            \n",
    "        for i, col in enumerate(cols):\n",
    "            table[col] = xnew[:,i+1]\n",
    "        table['fit'] = pred\n",
    "        table['pred_lwr'] = interval_l\n",
    "        table['pred_upr'] = interval_u\n",
    "        return table\n",
    "    \n",
    "    def confidence_band(self, xnew, alpha=0.05, cols=None):\n",
    "        \"\"\"\n",
    "        Confidence interval of new X (x0)\n",
    "        \n",
    "        pred +/- t * sqrt (MSE * x0' (X'X)-1 x0 )) \n",
    "        http://academic.macewan.ca/burok/Stat378/notes/moremultiple.pdf\n",
    "        \"\"\"\n",
    "        pred = self.model.predict(xnew)\n",
    "        xnew = np.hstack((np.ones(len(xnew)).reshape(-1,1), xnew))\n",
    "        last_term = np.dot(self.cov_params, xnew.T)\n",
    "        pred_mean_se = np.sqrt(self.MSE * (xnew * last_term.T).sum(1))\n",
    "        tppf = sc.stats.t.isf(alpha/2.0, self.dof)\n",
    "        mean_u = pred + tppf * pred_mean_se\n",
    "        mean_l = pred - tppf * pred_mean_se\n",
    "        if not cols: \n",
    "            cols = ['X'+str(i) for i in np.arange(xnew.shape[1]-1)]\n",
    "        table = pd.DataFrame(np.zeros((len(xnew), xnew.shape[1]-1)), columns = cols)            \n",
    "        for i, col in enumerate(cols):\n",
    "            table[col] = xnew[:,i+1]\n",
    "        table['fit'] = pred\n",
    "        table['conf_lwr'] = mean_l\n",
    "        table['conf_upr'] = mean_u\n",
    "        return table\n",
    "        \n",
    "\n",
    "def anova_lm(*args):\n",
    "    \"\"\"\n",
    "    Anova table for fitted linear models. Input: Model statistics\n",
    "    \n",
    "    Example:\n",
    "    >>> lin1 = ModelStat(linreg, Credit[['Limit']], Credit['Balance'], fit=True)\n",
    "    >>> lin2 = ModelStat(linreg, Credit[['Limit', 'Age']], Credit['Balance'], fit=True)\n",
    "    >>> anova_lm(lin1,lin2)\n",
    "    \n",
    "    \"\"\"\n",
    "    names = ['dof', 'rss', 'dof_diff', 'rss_diff', 'F', 'Pr(>F)']\n",
    "    n_models = len(args)\n",
    "    scale = args[-1].RSS/float(args[-1].dof)\n",
    "    table = pd.DataFrame(np.zeros((n_models, 6)), columns = names)\n",
    "    table[\"rss\"] = list(map(getattr, args, [\"RSS\"]*n_models))\n",
    "    table[\"dof\"] = list(map(getattr, args, [\"dof\"]*n_models))\n",
    "    table.loc[table.index[1:], \"dof_diff\"] = -np.diff(table[\"dof\"].values)\n",
    "    table[\"rss_diff\"] = - table[\"rss\"].diff()\n",
    "    table[\"F\"] = table[\"rss_diff\"] / table[\"dof_diff\"] / scale\n",
    "    table[\"Pr(>F)\"] = sc.stats.f.sf(table[\"F\"], table[\"dof_diff\"], table[\"dof\"])\n",
    "    return table\n",
    "\n",
    "# This is the same as statsmodel :\n",
    "# lm_fit = smf.ols('Balance ~ Limit', data=Credit).fit()\n",
    "# lm_fit2 = smf.ols('Balance ~ Limit + Age', data=Credit).fit()\n",
    "# sm.stats.anova_lm(lm_fit, lm_fit2, typ=1)\n",
    "\n",
    "# lin1 = ModelStat(linreg, Credit[['Limit']], Credit['Balance'], fit=True)\n",
    "# lin2 = ModelStat(linreg, Credit[['Limit', 'Age']], Credit['Balance'], fit=True)\n",
    "# anova_lm(lin1,lin2)        \n",
    "        \n",
    "        \n",
    "# Function for creating grid    \n",
    "def grid_create(model, XX, y, xstd, ystd, ngrid=20):\n",
    "    xar = np.linspace(model.coef_[0]- xstd, model.coef_[0]+xstd, ngrid)\n",
    "    yar = np.linspace(model.coef_[1]- ystd, model.coef_[1]+ystd, ngrid)\n",
    "    xarr, yarr = np.meshgrid(xar, yar, indexing='xy')\n",
    "    Z = np.zeros((xar.size,yar.size))\n",
    "    xz = np.transpose(XX[:,0])\n",
    "    yz = np.transpose(XX[:,1])\n",
    "    intercept = model.intercept_\n",
    "    for (i,j),v in np.ndenumerate(Z):\n",
    "        coef1 = xarr[i,j]\n",
    "        coef2 = yarr[i,j]\n",
    "        Z[i,j] =sum((y - (intercept + coef1*xz + coef2*yz))**2)\n",
    "    return(xarr,yarr,Z)"
   ]
  },
  {
   "cell_type": "markdown",
   "metadata": {},
   "source": [
    "# An Overview of Classification"
   ]
  },
  {
   "cell_type": "code",
   "execution_count": 7,
   "metadata": {
    "collapsed": false
   },
   "outputs": [
    {
     "data": {
      "text/html": [
       "<div>\n",
       "<style>\n",
       "    .dataframe thead tr:only-child th {\n",
       "        text-align: right;\n",
       "    }\n",
       "\n",
       "    .dataframe thead th {\n",
       "        text-align: left;\n",
       "    }\n",
       "\n",
       "    .dataframe tbody tr th {\n",
       "        vertical-align: top;\n",
       "    }\n",
       "</style>\n",
       "<table border=\"1\" class=\"dataframe\">\n",
       "  <thead>\n",
       "    <tr style=\"text-align: right;\">\n",
       "      <th></th>\n",
       "      <th>default</th>\n",
       "      <th>student</th>\n",
       "      <th>balance</th>\n",
       "      <th>income</th>\n",
       "      <th>default2</th>\n",
       "      <th>student2</th>\n",
       "    </tr>\n",
       "  </thead>\n",
       "  <tbody>\n",
       "    <tr>\n",
       "      <th>1</th>\n",
       "      <td>No</td>\n",
       "      <td>No</td>\n",
       "      <td>729.526495</td>\n",
       "      <td>44361.625074</td>\n",
       "      <td>0</td>\n",
       "      <td>0</td>\n",
       "    </tr>\n",
       "    <tr>\n",
       "      <th>2</th>\n",
       "      <td>No</td>\n",
       "      <td>Yes</td>\n",
       "      <td>817.180407</td>\n",
       "      <td>12106.134700</td>\n",
       "      <td>0</td>\n",
       "      <td>1</td>\n",
       "    </tr>\n",
       "    <tr>\n",
       "      <th>3</th>\n",
       "      <td>No</td>\n",
       "      <td>No</td>\n",
       "      <td>1073.549164</td>\n",
       "      <td>31767.138947</td>\n",
       "      <td>0</td>\n",
       "      <td>0</td>\n",
       "    </tr>\n",
       "  </tbody>\n",
       "</table>\n",
       "</div>"
      ],
      "text/plain": [
       "  default student      balance        income  default2  student2\n",
       "1      No      No   729.526495  44361.625074         0         0\n",
       "2      No     Yes   817.180407  12106.134700         0         1\n",
       "3      No      No  1073.549164  31767.138947         0         0"
      ]
     },
     "execution_count": 7,
     "metadata": {},
     "output_type": "execute_result"
    }
   ],
   "source": [
    "df = pd.read_excel('Data/Default.xlsx')\n",
    "df['default2'] = df.default.factorize()[0]\n",
    "df['student2'] = df.student.factorize()[0]\n",
    "df.head(3)"
   ]
  },
  {
   "cell_type": "code",
   "execution_count": 15,
   "metadata": {
    "collapsed": false
   },
   "outputs": [
    {
     "data": {
      "image/png": "[encoded data removed]",
      "text/plain": [
       "<matplotlib.figure.Figure at 0x1c18d5b810>"
      ]
     },
     "metadata": {},
     "output_type": "display_data"
    }
   ],
   "source": [
    "# Figure 4.1\n",
    "fig = plt.figure(figsize=(10, 4)) \n",
    "gs = gridspec.GridSpec(1, 3, width_ratios=[3,1,1])\n",
    "(ax1,ax2,ax3) = [plt.subplot(i) for i in gs]\n",
    "\n",
    "subset_no = df[df.default == 'No'].sample(frac=0.15)\n",
    "subset_yes = df[df.default == 'Yes']\n",
    "\n",
    "ax1.scatter(subset_no.balance,subset_no.income,s=20, marker='o', facecolors='None', lw=0.8, edgecolors='blue', alpha=0.5)\n",
    "ax1.scatter(subset_yes.balance,subset_yes.income,s=60, c='orange', marker='+')\n",
    "ax1.set_xlabel(\"Balance\")\n",
    "ax1.set_ylabel(\"Income\")\n",
    "\n",
    "c_palette = {'No':'cyan', 'Yes':'orange'}\n",
    "sns.boxplot('default', 'balance', data=df, orient='v', width=0.5, ax=ax2, palette=c_palette)\n",
    "sns.boxplot('default', 'income', data=df, orient='v', width=0.5, ax=ax3, palette=c_palette)\n",
    "gs.tight_layout(plt.gcf())\n"
   ]
  },
  {
   "cell_type": "markdown",
   "metadata": {},
   "source": [
    "# Logistic regression"
   ]
  },
  {
   "cell_type": "code",
   "execution_count": 17,
   "metadata": {
    "collapsed": false
   },
   "outputs": [
    {
     "data": {
      "image/png": "[encoded data removed]",
      "text/plain": [
       "<matplotlib.figure.Figure at 0x1c19a3fb10>"
      ]
     },
     "metadata": {},
     "output_type": "display_data"
    }
   ],
   "source": [
    "# Figure 4.2\n",
    "X_test = np.arange(df.balance.min(), df.balance.max()).reshape(-1,1)\n",
    "fig,(ax1,ax2) = plt.subplots(ncols=2, figsize=(10, 3))\n",
    "\n",
    "# Linear Regression\n",
    "reg = linear_model.LinearRegression()\n",
    "reg.fit(df[['balance']],df.default2)\n",
    "ax1.scatter(df.balance,df.default2, marker='o', lw=0, color='orange',facecolors=None)\n",
    "ax1.plot(X_test, reg.predict(X_test))\n",
    "for i in (0,1): ax1.axhline(i, color='k', ls='dashed', lw=1)\n",
    "\n",
    "# Logistic Regression\n",
    "logr = linear_model.LogisticRegression(solver='newton-cg')\n",
    "logr.fit(df[['balance']],df.default2)\n",
    "ax2.scatter(df.balance,df.default2, marker='o', lw=0, color='orange',facecolors=None)\n",
    "ax2.plot(X_test, logr.predict_proba(X_test)[:,1])\n",
    "for i in (0,1): ax2.axhline(i, color='k', ls='dashed', lw=1)\n",
    "for axs in (ax1,ax2):\n",
    "    axs.set_xlabel('Balance')\n",
    "    axs.set_ylabel('Probability of Default')    "
   ]
  },
  {
   "cell_type": "code",
   "execution_count": null,
   "metadata": {
    "collapsed": true
   },
   "outputs": [],
   "source": []
  },
  {
   "cell_type": "code",
   "execution_count": 7,
   "metadata": {
    "collapsed": false
   },
   "outputs": [
    {
     "name": "stdout",
     "output_type": "stream",
     "text": [
      "Average probability over training:\t0.0333000082998\n",
      "Overall proportion of defaulters:\t0.0333\n"
     ]
    }
   ],
   "source": [
    "proba = logr.predict_proba(df[['balance']])\n",
    "pred = logr.predict(df[['balance']])\n",
    "print 'Average probability over training:\\t'+str(proba[:,1].mean())\n",
    "print 'Overall proportion of defaulters:\\t'+str(df.default2.sum()/float(len(df)))"
   ]
  },
  {
   "cell_type": "code",
   "execution_count": 73,
   "metadata": {
    "collapsed": true
   },
   "outputs": [],
   "source": [
    "import scipy as sc\n",
    "class LogisticRegression(linear_model.LogisticRegression):\n",
    "    def __init__(self,*args,**kwargs):\n",
    "        \"\"\"\n",
    "        Logistic Regression with Stats output\n",
    "        \"\"\"\n",
    "        super(LogisticRegression,self).__init__(*args,**kwargs)\n",
    "\n",
    "    def fit_stats(self,X,y):\n",
    "        self.fit(X,y)\n",
    "        self.params = np.append(self.intercept_,self.coef_)\n",
    "        predictions = self.predict_proba(X)\n",
    "        likelihood = np.multiply(predictions[:,0], predictions[:,1])\n",
    "        newX = pd.DataFrame({\"Constant\":np.ones(len(X))}).join(pd.DataFrame(X.reset_index(drop=True)))\n",
    "        # V is p*(1-p)\n",
    "        V = np.matrix(np.zeros(shape = (newX.shape[0], newX.shape[0])))\n",
    "        np.fill_diagonal(V, likelihood)\n",
    "        #covariance = XT * V * X\n",
    "        covLogit = np.linalg.inv((newX.T).dot(V).dot(newX))\n",
    "        self.StdErr = np.sqrt(np.diag(covLogit))\n",
    "        self.tValues = self.params/self.StdErr\n",
    "        self.pValues =[2*(1 - sc.stats.t.cdf(np.abs(i),(len(newX)-1))) for i in self.tValues]\n",
    "        self.confInt = [self.params-1.95996398*self.StdErr, self.params+1.95996398*self.StdErr]\n",
    "        myDF = pd.DataFrame(index=newX.columns)\n",
    "        myDF[\"Coefs\"],myDF[\"StdErr\"],myDF[\"zvalues\"],myDF[\"pvalue\"] = [self.params,self.StdErr,self.tValues,self.pValues]\n",
    "        myDF[\"[0.025\"] = self.confInt[0]\n",
    "        myDF[\"0.0975]\"] = self.confInt[1]\n",
    "        self.results = myDF       \n"
   ]
  },
  {
   "cell_type": "code",
   "execution_count": 74,
   "metadata": {
    "collapsed": false
   },
   "outputs": [
    {
     "data": {
      "text/html": [
       "<div>\n",
       "<style>\n",
       "    .dataframe thead tr:only-child th {\n",
       "        text-align: right;\n",
       "    }\n",
       "\n",
       "    .dataframe thead th {\n",
       "        text-align: left;\n",
       "    }\n",
       "\n",
       "    .dataframe tbody tr th {\n",
       "        vertical-align: top;\n",
       "    }\n",
       "</style>\n",
       "<table border=\"1\" class=\"dataframe\">\n",
       "  <thead>\n",
       "    <tr style=\"text-align: right;\">\n",
       "      <th></th>\n",
       "      <th>Coefs</th>\n",
       "      <th>StdErr</th>\n",
       "      <th>zvalues</th>\n",
       "      <th>pvalue</th>\n",
       "      <th>[0.025</th>\n",
       "      <th>0.0975]</th>\n",
       "    </tr>\n",
       "  </thead>\n",
       "  <tbody>\n",
       "    <tr>\n",
       "      <th>Constant</th>\n",
       "      <td>-10.651319</td>\n",
       "      <td>0.361168</td>\n",
       "      <td>-29.491303</td>\n",
       "      <td>0.0</td>\n",
       "      <td>-11.359196</td>\n",
       "      <td>-9.943443</td>\n",
       "    </tr>\n",
       "    <tr>\n",
       "      <th>balance</th>\n",
       "      <td>0.005499</td>\n",
       "      <td>0.000220</td>\n",
       "      <td>24.952409</td>\n",
       "      <td>0.0</td>\n",
       "      <td>0.005067</td>\n",
       "      <td>0.005931</td>\n",
       "    </tr>\n",
       "  </tbody>\n",
       "</table>\n",
       "</div>"
      ],
      "text/plain": [
       "              Coefs    StdErr    zvalues  pvalue     [0.025   0.0975]\n",
       "Constant -10.651319  0.361168 -29.491303     0.0 -11.359196 -9.943443\n",
       "balance    0.005499  0.000220  24.952409     0.0   0.005067  0.005931"
      ]
     },
     "execution_count": 74,
     "metadata": {},
     "output_type": "execute_result"
    }
   ],
   "source": [
    "logr1 = LogisticRegression(solver='newton-cg')\n",
    "logr1.fit_stats(df[['balance']],df.default2)\n",
    "logr1.results"
   ]
  },
  {
   "cell_type": "code",
   "execution_count": 90,
   "metadata": {
    "collapsed": false
   },
   "outputs": [
    {
     "data": {
      "text/html": [
       "<div>\n",
       "<style>\n",
       "    .dataframe thead tr:only-child th {\n",
       "        text-align: right;\n",
       "    }\n",
       "\n",
       "    .dataframe thead th {\n",
       "        text-align: left;\n",
       "    }\n",
       "\n",
       "    .dataframe tbody tr th {\n",
       "        vertical-align: top;\n",
       "    }\n",
       "</style>\n",
       "<table border=\"1\" class=\"dataframe\">\n",
       "  <thead>\n",
       "    <tr style=\"text-align: right;\">\n",
       "      <th></th>\n",
       "      <th>Coefs</th>\n",
       "      <th>StdErr</th>\n",
       "      <th>zvalues</th>\n",
       "      <th>pvalue</th>\n",
       "      <th>[0.025</th>\n",
       "      <th>0.0975]</th>\n",
       "    </tr>\n",
       "  </thead>\n",
       "  <tbody>\n",
       "    <tr>\n",
       "      <th>Constant</th>\n",
       "      <td>-3.502132</td>\n",
       "      <td>0.070647</td>\n",
       "      <td>-49.572430</td>\n",
       "      <td>0.000000</td>\n",
       "      <td>-3.640597</td>\n",
       "      <td>-3.363666</td>\n",
       "    </tr>\n",
       "    <tr>\n",
       "      <th>student2</th>\n",
       "      <td>0.399598</td>\n",
       "      <td>0.115086</td>\n",
       "      <td>3.472167</td>\n",
       "      <td>0.000518</td>\n",
       "      <td>0.174033</td>\n",
       "      <td>0.625162</td>\n",
       "    </tr>\n",
       "  </tbody>\n",
       "</table>\n",
       "</div>"
      ],
      "text/plain": [
       "             Coefs    StdErr    zvalues    pvalue    [0.025   0.0975]\n",
       "Constant -3.502132  0.070647 -49.572430  0.000000 -3.640597 -3.363666\n",
       "student2  0.399598  0.115086   3.472167  0.000518  0.174033  0.625162"
      ]
     },
     "execution_count": 90,
     "metadata": {},
     "output_type": "execute_result"
    }
   ],
   "source": [
    "logr1 = LogisticRegression(solver='newton-cg')\n",
    "logr1.fit_stats(df[['student2']],df.default2)\n",
    "logr1.results"
   ]
  },
  {
   "cell_type": "code",
   "execution_count": 88,
   "metadata": {
    "collapsed": false
   },
   "outputs": [
    {
     "name": "stdout",
     "output_type": "stream",
     "text": [
      "Optimization terminated successfully.\n",
      "         Current function value: 0.145434\n",
      "         Iterations 7\n"
     ]
    },
    {
     "data": {
      "text/html": [
       "<div>\n",
       "<style>\n",
       "    .dataframe thead tr:only-child th {\n",
       "        text-align: right;\n",
       "    }\n",
       "\n",
       "    .dataframe thead th {\n",
       "        text-align: left;\n",
       "    }\n",
       "\n",
       "    .dataframe tbody tr th {\n",
       "        vertical-align: top;\n",
       "    }\n",
       "</style>\n",
       "<table border=\"1\" class=\"dataframe\">\n",
       "  <thead>\n",
       "    <tr style=\"text-align: right;\">\n",
       "      <th></th>\n",
       "      <th>Coef.</th>\n",
       "      <th>Std.Err.</th>\n",
       "      <th>z</th>\n",
       "      <th>P&gt;|z|</th>\n",
       "      <th>[0.025</th>\n",
       "      <th>0.975]</th>\n",
       "    </tr>\n",
       "  </thead>\n",
       "  <tbody>\n",
       "    <tr>\n",
       "      <th>const</th>\n",
       "      <td>-3.504128</td>\n",
       "      <td>0.070713</td>\n",
       "      <td>-49.554094</td>\n",
       "      <td>0.000000</td>\n",
       "      <td>-3.642723</td>\n",
       "      <td>-3.365532</td>\n",
       "    </tr>\n",
       "    <tr>\n",
       "      <th>student2</th>\n",
       "      <td>0.404887</td>\n",
       "      <td>0.115019</td>\n",
       "      <td>3.520177</td>\n",
       "      <td>0.000431</td>\n",
       "      <td>0.179454</td>\n",
       "      <td>0.630320</td>\n",
       "    </tr>\n",
       "  </tbody>\n",
       "</table>\n",
       "</div>"
      ],
      "text/plain": [
       "             Coef.  Std.Err.          z     P>|z|    [0.025    0.975]\n",
       "const    -3.504128  0.070713 -49.554094  0.000000 -3.642723 -3.365532\n",
       "student2  0.404887  0.115019   3.520177  0.000431  0.179454  0.630320"
      ]
     },
     "execution_count": 88,
     "metadata": {},
     "output_type": "execute_result"
    }
   ],
   "source": [
    "X_train = sm.add_constant(df.student2)\n",
    "y = df.default2\n",
    "\n",
    "est = smf.Logit(y, X_train).fit()\n",
    "est.summary2().tables[1]"
   ]
  },
  {
   "cell_type": "markdown",
   "metadata": {},
   "source": [
    "## Multiple Logistic Regression"
   ]
  },
  {
   "cell_type": "code",
   "execution_count": 170,
   "metadata": {
    "collapsed": false
   },
   "outputs": [
    {
     "data": {
      "text/html": [
       "<div>\n",
       "<style>\n",
       "    .dataframe thead tr:only-child th {\n",
       "        text-align: right;\n",
       "    }\n",
       "\n",
       "    .dataframe thead th {\n",
       "        text-align: left;\n",
       "    }\n",
       "\n",
       "    .dataframe tbody tr th {\n",
       "        vertical-align: top;\n",
       "    }\n",
       "</style>\n",
       "<table border=\"1\" class=\"dataframe\">\n",
       "  <thead>\n",
       "    <tr style=\"text-align: right;\">\n",
       "      <th></th>\n",
       "      <th>Coefs</th>\n",
       "      <th>StdErr</th>\n",
       "      <th>zvalues</th>\n",
       "      <th>pvalue</th>\n",
       "      <th>[0.025</th>\n",
       "      <th>0.0975]</th>\n",
       "    </tr>\n",
       "  </thead>\n",
       "  <tbody>\n",
       "    <tr>\n",
       "      <th>Constant</th>\n",
       "      <td>-10.901801</td>\n",
       "      <td>0.493158</td>\n",
       "      <td>-22.106093</td>\n",
       "      <td>0.000000</td>\n",
       "      <td>-11.868374</td>\n",
       "      <td>-9.935229</td>\n",
       "    </tr>\n",
       "    <tr>\n",
       "      <th>balance</th>\n",
       "      <td>0.005731</td>\n",
       "      <td>0.000232</td>\n",
       "      <td>24.735501</td>\n",
       "      <td>0.000000</td>\n",
       "      <td>0.005277</td>\n",
       "      <td>0.006185</td>\n",
       "    </tr>\n",
       "    <tr>\n",
       "      <th>income1000</th>\n",
       "      <td>0.003962</td>\n",
       "      <td>0.008208</td>\n",
       "      <td>0.482630</td>\n",
       "      <td>0.629369</td>\n",
       "      <td>-0.012127</td>\n",
       "      <td>0.020050</td>\n",
       "    </tr>\n",
       "    <tr>\n",
       "      <th>student2</th>\n",
       "      <td>-0.612570</td>\n",
       "      <td>0.236394</td>\n",
       "      <td>-2.591312</td>\n",
       "      <td>0.009575</td>\n",
       "      <td>-1.075894</td>\n",
       "      <td>-0.149247</td>\n",
       "    </tr>\n",
       "  </tbody>\n",
       "</table>\n",
       "</div>"
      ],
      "text/plain": [
       "                Coefs    StdErr    zvalues    pvalue     [0.025   0.0975]\n",
       "Constant   -10.901801  0.493158 -22.106093  0.000000 -11.868374 -9.935229\n",
       "balance      0.005731  0.000232  24.735501  0.000000   0.005277  0.006185\n",
       "income1000   0.003962  0.008208   0.482630  0.629369  -0.012127  0.020050\n",
       "student2    -0.612570  0.236394  -2.591312  0.009575  -1.075894 -0.149247"
      ]
     },
     "execution_count": 170,
     "metadata": {},
     "output_type": "execute_result"
    }
   ],
   "source": [
    "df['income1000'] = df['income']/float(1000)\n",
    "multLR = LogisticRegression(solver='newton-cg', max_iter=1000)\n",
    "multLR.fit_stats(df[['balance','income1000','student2']],df.default2)\n",
    "multLR.results"
   ]
  },
  {
   "cell_type": "code",
   "execution_count": 173,
   "metadata": {
    "collapsed": false
   },
   "outputs": [],
   "source": [
    "# Testing with scaled values\n",
    "scaler = preprocessing.StandardScaler()\n",
    "newdf = df[['balance','income','student2']].copy()\n",
    "newdf['balance'] = scaler.fit_transform(df.balance.values.reshape(-1, 1))\n",
    "newdf['income'] = scaler.fit_transform(df.income.values.reshape(-1, 1))"
   ]
  },
  {
   "cell_type": "code",
   "execution_count": 156,
   "metadata": {
    "collapsed": false
   },
   "outputs": [
    {
     "data": {
      "text/html": [
       "<div>\n",
       "<style>\n",
       "    .dataframe thead tr:only-child th {\n",
       "        text-align: right;\n",
       "    }\n",
       "\n",
       "    .dataframe thead th {\n",
       "        text-align: left;\n",
       "    }\n",
       "\n",
       "    .dataframe tbody tr th {\n",
       "        vertical-align: top;\n",
       "    }\n",
       "</style>\n",
       "<table border=\"1\" class=\"dataframe\">\n",
       "  <thead>\n",
       "    <tr style=\"text-align: right;\">\n",
       "      <th></th>\n",
       "      <th>Coefs</th>\n",
       "      <th>StdErr</th>\n",
       "      <th>zvalues</th>\n",
       "      <th>pvalue</th>\n",
       "      <th>[0.025</th>\n",
       "      <th>0.0975]</th>\n",
       "    </tr>\n",
       "  </thead>\n",
       "  <tbody>\n",
       "    <tr>\n",
       "      <th>Constant</th>\n",
       "      <td>-5.931615</td>\n",
       "      <td>0.191219</td>\n",
       "      <td>-31.020032</td>\n",
       "      <td>0.000000</td>\n",
       "      <td>-6.306397</td>\n",
       "      <td>-5.556833</td>\n",
       "    </tr>\n",
       "    <tr>\n",
       "      <th>balance</th>\n",
       "      <td>2.737978</td>\n",
       "      <td>0.110560</td>\n",
       "      <td>24.764709</td>\n",
       "      <td>0.000000</td>\n",
       "      <td>2.521285</td>\n",
       "      <td>2.954671</td>\n",
       "    </tr>\n",
       "    <tr>\n",
       "      <th>income</th>\n",
       "      <td>0.052377</td>\n",
       "      <td>0.109055</td>\n",
       "      <td>0.480284</td>\n",
       "      <td>0.631036</td>\n",
       "      <td>-0.161366</td>\n",
       "      <td>0.266121</td>\n",
       "    </tr>\n",
       "    <tr>\n",
       "      <th>student2</th>\n",
       "      <td>-0.601748</td>\n",
       "      <td>0.235447</td>\n",
       "      <td>-2.555768</td>\n",
       "      <td>0.010610</td>\n",
       "      <td>-1.063216</td>\n",
       "      <td>-0.140280</td>\n",
       "    </tr>\n",
       "  </tbody>\n",
       "</table>\n",
       "</div>"
      ],
      "text/plain": [
       "             Coefs    StdErr    zvalues    pvalue    [0.025   0.0975]\n",
       "Constant -5.931615  0.191219 -31.020032  0.000000 -6.306397 -5.556833\n",
       "balance   2.737978  0.110560  24.764709  0.000000  2.521285  2.954671\n",
       "income    0.052377  0.109055   0.480284  0.631036 -0.161366  0.266121\n",
       "student2 -0.601748  0.235447  -2.555768  0.010610 -1.063216 -0.140280"
      ]
     },
     "execution_count": 156,
     "metadata": {},
     "output_type": "execute_result"
    }
   ],
   "source": [
    "multLRscale = LogisticRegression(solver='newton-cg', max_iter=1000)\n",
    "multLRscale.fit_stats(newdf,df.default2)\n",
    "multLRscale.results"
   ]
  },
  {
   "cell_type": "markdown",
   "metadata": {},
   "source": [
    "## Confounding"
   ]
  },
  {
   "cell_type": "code",
   "execution_count": 143,
   "metadata": {
    "collapsed": false
   },
   "outputs": [],
   "source": [
    "conf1 = df.loc[df['student']=='Yes',['balance','default2']]\n",
    "conf2 = df.loc[df['student']=='No',['balance','default2']]\n",
    "X_test = np.arange(df.balance.min(), df.balance.max()).reshape(-1,1)\n",
    "\n",
    "lr1 = LogisticRegression(solver='newton-cg')\n",
    "lr1.fit(conf1[['balance']],conf1['default2'])\n",
    "proba1 = lr1.predict_proba(X_test)\n",
    "\n",
    "lr2 = LogisticRegression(solver='newton-cg')\n",
    "lr2.fit(conf2[['balance']],conf2['default2'])\n",
    "proba2 = lr2.predict_proba(X_test)\n",
    "\n",
    "Pstudent = conf1['default2'].sum()/float(len(conf1))\n",
    "Pnonstudent = conf2['default2'].sum()/float(len(conf2))"
   ]
  },
  {
   "cell_type": "code",
   "execution_count": 154,
   "metadata": {
    "collapsed": false
   },
   "outputs": [
    {
     "data": {
      "text/plain": [
       "<matplotlib.axes._subplots.AxesSubplot at 0x11ecd3710>"
      ]
     },
     "execution_count": 154,
     "metadata": {},
     "output_type": "execute_result"
    },
    {
     "data": {
      "image/png": "[encoded data removed]",
      "text/plain": [
       "<matplotlib.figure.Figure at 0x11ec34690>"
      ]
     },
     "metadata": {},
     "output_type": "display_data"
    }
   ],
   "source": [
    "fig, (ax1, ax2) = plt.subplots(ncols=2, figsize=(12,5))\n",
    "ax1.plot(X_test, proba1[:,1], color='orange', label='Student')\n",
    "ax1.plot(X_test, proba2[:,1], color='lightblue', label='Non-student')\n",
    "ax1.axhline(Pstudent, color='orange', ls='dashed', lw=1)\n",
    "ax1.axhline(Pnonstudent, color='lightblue', ls='dashed', lw=1)\n",
    "ax1.set_xlabel(\"Balance\")\n",
    "ax1.set_ylabel(\"Default rate\")\n",
    "c_palette = {'Yes':'lightblue', 'No':'orange'}\n",
    "sns.boxplot('student', 'balance', data=df, width=0.5, orient='v', ax=ax2,  palette=c_palette)"
   ]
  },
  {
   "cell_type": "code",
   "execution_count": 171,
   "metadata": {
    "collapsed": false
   },
   "outputs": [
    {
     "data": {
      "text/plain": [
       "array([ 0.05952455,  0.10457195])"
      ]
     },
     "execution_count": 171,
     "metadata": {},
     "output_type": "execute_result"
    }
   ],
   "source": [
    "# Examples:\n",
    "bbb = multLR.predict_proba([[1500.0,40.0,1],[1500.0,40.0,0]])\n",
    "bbb[:,1]"
   ]
  },
  {
   "cell_type": "markdown",
   "metadata": {},
   "source": [
    "## Linear Discriminant Analysis"
   ]
  },
  {
   "cell_type": "code",
   "execution_count": 176,
   "metadata": {
    "collapsed": false
   },
   "outputs": [],
   "source": [
    "from sklearn.discriminant_analysis import LinearDiscriminantAnalysis, QuadraticDiscriminantAnalysis\n",
    "from sklearn.metrics import precision_recall_fscore_support as score"
   ]
  },
  {
   "cell_type": "markdown",
   "metadata": {},
   "source": [
    "- **Precision**: When a positive value is predicted, how often is the prediction correct? How \"precise\" is the classifier when predicting positive instances?$$precision = \\frac{TP}{(FP + TP)}$$\n",
    "\n",
    "\n",
    "- **Recall** same as **True positive rate** or **sensitivity**: When the actual value is positive, how often is the prediction correct? How \"sensitive\" is the classifier to detecting positive instances? In our case the fraction of the defaulters that are correctly identified.$$recall = \\frac{TP}{(FN + TP)}$$\n",
    "\n",
    "\n",
    "- **False positive rate** (*Type 1 errors*): When the actual value is negative, how often is the prediction incorrect? In our case the fraction of the non-defaulters that we classified incorrectly as defaulter $$False~positive~rate = \\frac{FP}{(TN + FP)}$$\n",
    "\n",
    "- **Specificity**: When the actual value is negative, how often is the prediction correct? How \"specific\" (or \"selective\") is the classifier in predicting positive instances? $$specificity = \\frac{TN}{(TN + FP)} = 1 - FPR$$\n",
    "\n",
    "\n",
    "- **A Type 1 Error** is rejecting the null hypothesis when H0 is actually true. Here the Null hypothesis H0 is individual default, and Ha does not. Type 1 Error is then FPR and Type 2 error is (1 - TPR)\n",
    "\n",
    "- **A Type 2 Error** is failing to reject the null hypothesis when the alternative is actually true."
   ]
  },
  {
   "cell_type": "code",
   "execution_count": 238,
   "metadata": {
    "collapsed": false
   },
   "outputs": [
    {
     "name": "stdout",
     "output_type": "stream",
     "text": [
      "precision: [ 0.97434084  0.78217822]\n",
      "recall: [ 0.99772422  0.23723724]\n",
      "fscore: [ 0.9858939  0.3640553]\n",
      "support: [9667  333]\n"
     ]
    },
    {
     "data": {
      "text/html": [
       "<div>\n",
       "<style>\n",
       "    .dataframe thead tr:only-child th {\n",
       "        text-align: right;\n",
       "    }\n",
       "\n",
       "    .dataframe thead th {\n",
       "        text-align: left;\n",
       "    }\n",
       "\n",
       "    .dataframe tbody tr th {\n",
       "        vertical-align: top;\n",
       "    }\n",
       "</style>\n",
       "<table border=\"1\" class=\"dataframe\">\n",
       "  <thead>\n",
       "    <tr style=\"text-align: right;\">\n",
       "      <th>True</th>\n",
       "      <th>0</th>\n",
       "      <th>1</th>\n",
       "      <th>All</th>\n",
       "    </tr>\n",
       "    <tr>\n",
       "      <th>Predicted</th>\n",
       "      <th></th>\n",
       "      <th></th>\n",
       "      <th></th>\n",
       "    </tr>\n",
       "  </thead>\n",
       "  <tbody>\n",
       "    <tr>\n",
       "      <th>0</th>\n",
       "      <td>9645</td>\n",
       "      <td>254</td>\n",
       "      <td>9899</td>\n",
       "    </tr>\n",
       "    <tr>\n",
       "      <th>1</th>\n",
       "      <td>22</td>\n",
       "      <td>79</td>\n",
       "      <td>101</td>\n",
       "    </tr>\n",
       "    <tr>\n",
       "      <th>All</th>\n",
       "      <td>9667</td>\n",
       "      <td>333</td>\n",
       "      <td>10000</td>\n",
       "    </tr>\n",
       "  </tbody>\n",
       "</table>\n",
       "</div>"
      ],
      "text/plain": [
       "True          0    1    All\n",
       "Predicted                  \n",
       "0          9645  254   9899\n",
       "1            22   79    101\n",
       "All        9667  333  10000"
      ]
     },
     "execution_count": 238,
     "metadata": {},
     "output_type": "execute_result"
    }
   ],
   "source": [
    "lda = LinearDiscriminantAnalysis(solver='svd')\n",
    "lda.fit(df[['balance','income1000','student2']],df.default2)\n",
    "y_pred = lda.predict(df[['balance','income1000','student2']])\n",
    "\n",
    "# diagnostic test\n",
    "precision, recall, fscore, support = score(df.default2, y_pred)\n",
    "print('precision: {}'.format(precision))\n",
    "print('recall: {}'.format(recall))\n",
    "print('fscore: {}'.format(fscore))\n",
    "print('support: {}'.format(support))\n",
    "# Confusion matrix\n",
    "pd.crosstab(y_pred, df.default2, rownames=['Predicted'], colnames=['True'], margins=True)"
   ]
  },
  {
   "cell_type": "code",
   "execution_count": 239,
   "metadata": {
    "collapsed": false
   },
   "outputs": [
    {
     "name": "stdout",
     "output_type": "stream",
     "text": [
      "precision: [ 0.98537859  0.45411765]\n",
      "recall: [ 0.97600083  0.57957958]\n",
      "fscore: [ 0.98066729  0.50923483]\n",
      "support: [9667  333]\n"
     ]
    },
    {
     "data": {
      "text/html": [
       "<div>\n",
       "<style>\n",
       "    .dataframe thead tr:only-child th {\n",
       "        text-align: right;\n",
       "    }\n",
       "\n",
       "    .dataframe thead th {\n",
       "        text-align: left;\n",
       "    }\n",
       "\n",
       "    .dataframe tbody tr th {\n",
       "        vertical-align: top;\n",
       "    }\n",
       "</style>\n",
       "<table border=\"1\" class=\"dataframe\">\n",
       "  <thead>\n",
       "    <tr style=\"text-align: right;\">\n",
       "      <th>Predicted</th>\n",
       "      <th>False</th>\n",
       "      <th>True</th>\n",
       "      <th>All</th>\n",
       "    </tr>\n",
       "    <tr>\n",
       "      <th>True</th>\n",
       "      <th></th>\n",
       "      <th></th>\n",
       "      <th></th>\n",
       "    </tr>\n",
       "  </thead>\n",
       "  <tbody>\n",
       "    <tr>\n",
       "      <th>False</th>\n",
       "      <td>9435</td>\n",
       "      <td>232</td>\n",
       "      <td>9667</td>\n",
       "    </tr>\n",
       "    <tr>\n",
       "      <th>True</th>\n",
       "      <td>140</td>\n",
       "      <td>193</td>\n",
       "      <td>333</td>\n",
       "    </tr>\n",
       "    <tr>\n",
       "      <th>All</th>\n",
       "      <td>9575</td>\n",
       "      <td>425</td>\n",
       "      <td>10000</td>\n",
       "    </tr>\n",
       "  </tbody>\n",
       "</table>\n",
       "</div>"
      ],
      "text/plain": [
       "Predicted  False  True    All\n",
       "True                         \n",
       "False       9435   232   9667\n",
       "True         140   193    333\n",
       "All         9575   425  10000"
      ]
     },
     "execution_count": 239,
     "metadata": {},
     "output_type": "execute_result"
    }
   ],
   "source": [
    "y_proba = lda.predict_proba(df[['balance','income1000','student2']])\n",
    "y_pred = y_proba[:,1] > 0.2\n",
    "#res = pd.DataFrame({'True':df.default2, 'Predicted':y_pred})\n",
    "precision, recall, fscore, support = score(df.default2, y_pred)\n",
    "print('precision: {}'.format(precision))\n",
    "print('recall: {}'.format(recall))\n",
    "print('fscore: {}'.format(fscore))\n",
    "print('support: {}'.format(support))\n",
    "# Confusion matrix\n",
    "pd.crosstab(df.default2.map({0:'False', 1:'True'}),y_pred,  colnames=['Predicted'], rownames=['True'], margins=True)"
   ]
  },
  {
   "cell_type": "code",
   "execution_count": 237,
   "metadata": {
    "collapsed": false
   },
   "outputs": [
    {
     "data": {
      "image/png": "[encoded data removed]",
      "text/plain": [
       "<matplotlib.figure.Figure at 0x12089c850>"
      ]
     },
     "metadata": {},
     "output_type": "display_data"
    }
   ],
   "source": [
    "# ROC curve : sensitivity and 1 - specificity of our classifier\n",
    "#from sklearn.metrics import roc_curve, auc\n",
    "\n",
    "fpr, tpr, thresholds = roc_curve(df.default2,y_proba[:,1]) \n",
    "\n",
    "# Calculate the area under the curve\n",
    "roc_auc = auc(fpr, tpr)\n",
    "plt.plot(fpr, tpr, lw=1)\n",
    "plt.plot([0, 1], [0, 1], '--', color=(0.6, 0.6, 0.6), label='Chance')\n",
    "plt.title('ROC curve (area = %0.2f)' % (roc_auc))\n",
    "plt.xlabel('False Positive Rate')\n",
    "plt.ylabel('True Positive Rate')\n",
    "plt.show()"
   ]
  },
  {
   "cell_type": "markdown",
   "metadata": {},
   "source": [
    "# Lab : Logistic regression, LDA, QDA, KNN\n",
    "## The stock market data"
   ]
  },
  {
   "cell_type": "code",
   "execution_count": 240,
   "metadata": {
    "collapsed": false
   },
   "outputs": [],
   "source": [
    "Smarket = pd.read_csv('Data/Smarket.csv', index_col=0, parse_dates=True)"
   ]
  },
  {
   "cell_type": "code",
   "execution_count": 251,
   "metadata": {
    "collapsed": false
   },
   "outputs": [
    {
     "data": {
      "text/html": [
       "<div>\n",
       "<style>\n",
       "    .dataframe thead tr:only-child th {\n",
       "        text-align: right;\n",
       "    }\n",
       "\n",
       "    .dataframe thead th {\n",
       "        text-align: left;\n",
       "    }\n",
       "\n",
       "    .dataframe tbody tr th {\n",
       "        vertical-align: top;\n",
       "    }\n",
       "</style>\n",
       "<table border=\"1\" class=\"dataframe\">\n",
       "  <thead>\n",
       "    <tr style=\"text-align: right;\">\n",
       "      <th></th>\n",
       "      <th>Year</th>\n",
       "      <th>Lag1</th>\n",
       "      <th>Lag2</th>\n",
       "      <th>Lag3</th>\n",
       "      <th>Lag4</th>\n",
       "      <th>Lag5</th>\n",
       "      <th>Volume</th>\n",
       "      <th>Today</th>\n",
       "      <th>Direction</th>\n",
       "      <th>Direction1</th>\n",
       "    </tr>\n",
       "  </thead>\n",
       "  <tbody>\n",
       "    <tr>\n",
       "      <th>1</th>\n",
       "      <td>2001</td>\n",
       "      <td>0.381</td>\n",
       "      <td>-0.192</td>\n",
       "      <td>-2.624</td>\n",
       "      <td>-1.055</td>\n",
       "      <td>5.010</td>\n",
       "      <td>1.1913</td>\n",
       "      <td>0.959</td>\n",
       "      <td>Up</td>\n",
       "      <td>1</td>\n",
       "    </tr>\n",
       "    <tr>\n",
       "      <th>2</th>\n",
       "      <td>2001</td>\n",
       "      <td>0.959</td>\n",
       "      <td>0.381</td>\n",
       "      <td>-0.192</td>\n",
       "      <td>-2.624</td>\n",
       "      <td>-1.055</td>\n",
       "      <td>1.2965</td>\n",
       "      <td>1.032</td>\n",
       "      <td>Up</td>\n",
       "      <td>1</td>\n",
       "    </tr>\n",
       "    <tr>\n",
       "      <th>3</th>\n",
       "      <td>2001</td>\n",
       "      <td>1.032</td>\n",
       "      <td>0.959</td>\n",
       "      <td>0.381</td>\n",
       "      <td>-0.192</td>\n",
       "      <td>-2.624</td>\n",
       "      <td>1.4112</td>\n",
       "      <td>-0.623</td>\n",
       "      <td>Down</td>\n",
       "      <td>0</td>\n",
       "    </tr>\n",
       "    <tr>\n",
       "      <th>4</th>\n",
       "      <td>2001</td>\n",
       "      <td>-0.623</td>\n",
       "      <td>1.032</td>\n",
       "      <td>0.959</td>\n",
       "      <td>0.381</td>\n",
       "      <td>-0.192</td>\n",
       "      <td>1.2760</td>\n",
       "      <td>0.614</td>\n",
       "      <td>Up</td>\n",
       "      <td>1</td>\n",
       "    </tr>\n",
       "    <tr>\n",
       "      <th>5</th>\n",
       "      <td>2001</td>\n",
       "      <td>0.614</td>\n",
       "      <td>-0.623</td>\n",
       "      <td>1.032</td>\n",
       "      <td>0.959</td>\n",
       "      <td>0.381</td>\n",
       "      <td>1.2057</td>\n",
       "      <td>0.213</td>\n",
       "      <td>Up</td>\n",
       "      <td>1</td>\n",
       "    </tr>\n",
       "  </tbody>\n",
       "</table>\n",
       "</div>"
      ],
      "text/plain": [
       "   Year   Lag1   Lag2   Lag3   Lag4   Lag5  Volume  Today Direction  \\\n",
       "1  2001  0.381 -0.192 -2.624 -1.055  5.010  1.1913  0.959        Up   \n",
       "2  2001  0.959  0.381 -0.192 -2.624 -1.055  1.2965  1.032        Up   \n",
       "3  2001  1.032  0.959  0.381 -0.192 -2.624  1.4112 -0.623      Down   \n",
       "4  2001 -0.623  1.032  0.959  0.381 -0.192  1.2760  0.614        Up   \n",
       "5  2001  0.614 -0.623  1.032  0.959  0.381  1.2057  0.213        Up   \n",
       "\n",
       "   Direction1  \n",
       "1           1  \n",
       "2           1  \n",
       "3           0  \n",
       "4           1  \n",
       "5           1  "
      ]
     },
     "execution_count": 251,
     "metadata": {},
     "output_type": "execute_result"
    }
   ],
   "source": [
    "Smarket.head(5)"
   ]
  },
  {
   "cell_type": "code",
   "execution_count": 250,
   "metadata": {
    "collapsed": false
   },
   "outputs": [
    {
     "data": {
      "text/html": [
       "<div>\n",
       "<style>\n",
       "    .dataframe thead tr:only-child th {\n",
       "        text-align: right;\n",
       "    }\n",
       "\n",
       "    .dataframe thead th {\n",
       "        text-align: left;\n",
       "    }\n",
       "\n",
       "    .dataframe tbody tr th {\n",
       "        vertical-align: top;\n",
       "    }\n",
       "</style>\n",
       "<table border=\"1\" class=\"dataframe\">\n",
       "  <thead>\n",
       "    <tr style=\"text-align: right;\">\n",
       "      <th></th>\n",
       "      <th>Year</th>\n",
       "      <th>Lag1</th>\n",
       "      <th>Lag2</th>\n",
       "      <th>Lag3</th>\n",
       "      <th>Lag4</th>\n",
       "      <th>Lag5</th>\n",
       "      <th>Volume</th>\n",
       "      <th>Today</th>\n",
       "      <th>Direction1</th>\n",
       "    </tr>\n",
       "  </thead>\n",
       "  <tbody>\n",
       "    <tr>\n",
       "      <th>count</th>\n",
       "      <td>1250.000000</td>\n",
       "      <td>1250.000000</td>\n",
       "      <td>1250.000000</td>\n",
       "      <td>1250.000000</td>\n",
       "      <td>1250.000000</td>\n",
       "      <td>1250.00000</td>\n",
       "      <td>1250.000000</td>\n",
       "      <td>1250.000000</td>\n",
       "      <td>1250.000000</td>\n",
       "    </tr>\n",
       "    <tr>\n",
       "      <th>mean</th>\n",
       "      <td>2003.016000</td>\n",
       "      <td>0.003834</td>\n",
       "      <td>0.003919</td>\n",
       "      <td>0.001716</td>\n",
       "      <td>0.001636</td>\n",
       "      <td>0.00561</td>\n",
       "      <td>1.478305</td>\n",
       "      <td>0.003138</td>\n",
       "      <td>0.518400</td>\n",
       "    </tr>\n",
       "    <tr>\n",
       "      <th>std</th>\n",
       "      <td>1.409018</td>\n",
       "      <td>1.136299</td>\n",
       "      <td>1.136280</td>\n",
       "      <td>1.138703</td>\n",
       "      <td>1.138774</td>\n",
       "      <td>1.14755</td>\n",
       "      <td>0.360357</td>\n",
       "      <td>1.136334</td>\n",
       "      <td>0.499861</td>\n",
       "    </tr>\n",
       "    <tr>\n",
       "      <th>min</th>\n",
       "      <td>2001.000000</td>\n",
       "      <td>-4.922000</td>\n",
       "      <td>-4.922000</td>\n",
       "      <td>-4.922000</td>\n",
       "      <td>-4.922000</td>\n",
       "      <td>-4.92200</td>\n",
       "      <td>0.356070</td>\n",
       "      <td>-4.922000</td>\n",
       "      <td>0.000000</td>\n",
       "    </tr>\n",
       "    <tr>\n",
       "      <th>25%</th>\n",
       "      <td>2002.000000</td>\n",
       "      <td>-0.639500</td>\n",
       "      <td>-0.639500</td>\n",
       "      <td>-0.640000</td>\n",
       "      <td>-0.640000</td>\n",
       "      <td>-0.64000</td>\n",
       "      <td>1.257400</td>\n",
       "      <td>-0.639500</td>\n",
       "      <td>0.000000</td>\n",
       "    </tr>\n",
       "    <tr>\n",
       "      <th>50%</th>\n",
       "      <td>2003.000000</td>\n",
       "      <td>0.039000</td>\n",
       "      <td>0.039000</td>\n",
       "      <td>0.038500</td>\n",
       "      <td>0.038500</td>\n",
       "      <td>0.03850</td>\n",
       "      <td>1.422950</td>\n",
       "      <td>0.038500</td>\n",
       "      <td>1.000000</td>\n",
       "    </tr>\n",
       "    <tr>\n",
       "      <th>75%</th>\n",
       "      <td>2004.000000</td>\n",
       "      <td>0.596750</td>\n",
       "      <td>0.596750</td>\n",
       "      <td>0.596750</td>\n",
       "      <td>0.596750</td>\n",
       "      <td>0.59700</td>\n",
       "      <td>1.641675</td>\n",
       "      <td>0.596750</td>\n",
       "      <td>1.000000</td>\n",
       "    </tr>\n",
       "    <tr>\n",
       "      <th>max</th>\n",
       "      <td>2005.000000</td>\n",
       "      <td>5.733000</td>\n",
       "      <td>5.733000</td>\n",
       "      <td>5.733000</td>\n",
       "      <td>5.733000</td>\n",
       "      <td>5.73300</td>\n",
       "      <td>3.152470</td>\n",
       "      <td>5.733000</td>\n",
       "      <td>1.000000</td>\n",
       "    </tr>\n",
       "  </tbody>\n",
       "</table>\n",
       "</div>"
      ],
      "text/plain": [
       "              Year         Lag1         Lag2         Lag3         Lag4  \\\n",
       "count  1250.000000  1250.000000  1250.000000  1250.000000  1250.000000   \n",
       "mean   2003.016000     0.003834     0.003919     0.001716     0.001636   \n",
       "std       1.409018     1.136299     1.136280     1.138703     1.138774   \n",
       "min    2001.000000    -4.922000    -4.922000    -4.922000    -4.922000   \n",
       "25%    2002.000000    -0.639500    -0.639500    -0.640000    -0.640000   \n",
       "50%    2003.000000     0.039000     0.039000     0.038500     0.038500   \n",
       "75%    2004.000000     0.596750     0.596750     0.596750     0.596750   \n",
       "max    2005.000000     5.733000     5.733000     5.733000     5.733000   \n",
       "\n",
       "             Lag5       Volume        Today   Direction1  \n",
       "count  1250.00000  1250.000000  1250.000000  1250.000000  \n",
       "mean      0.00561     1.478305     0.003138     0.518400  \n",
       "std       1.14755     0.360357     1.136334     0.499861  \n",
       "min      -4.92200     0.356070    -4.922000     0.000000  \n",
       "25%      -0.64000     1.257400    -0.639500     0.000000  \n",
       "50%       0.03850     1.422950     0.038500     1.000000  \n",
       "75%       0.59700     1.641675     0.596750     1.000000  \n",
       "max       5.73300     3.152470     5.733000     1.000000  "
      ]
     },
     "execution_count": 250,
     "metadata": {},
     "output_type": "execute_result"
    }
   ],
   "source": [
    "Smarket.describe()"
   ]
  },
  {
   "cell_type": "code",
   "execution_count": 244,
   "metadata": {
    "collapsed": false
   },
   "outputs": [
    {
     "data": {
      "text/html": [
       "<div>\n",
       "<style>\n",
       "    .dataframe thead tr:only-child th {\n",
       "        text-align: right;\n",
       "    }\n",
       "\n",
       "    .dataframe thead th {\n",
       "        text-align: left;\n",
       "    }\n",
       "\n",
       "    .dataframe tbody tr th {\n",
       "        vertical-align: top;\n",
       "    }\n",
       "</style>\n",
       "<table border=\"1\" class=\"dataframe\">\n",
       "  <thead>\n",
       "    <tr style=\"text-align: right;\">\n",
       "      <th></th>\n",
       "      <th>Year</th>\n",
       "      <th>Lag1</th>\n",
       "      <th>Lag2</th>\n",
       "      <th>Lag3</th>\n",
       "      <th>Lag4</th>\n",
       "      <th>Lag5</th>\n",
       "      <th>Volume</th>\n",
       "      <th>Today</th>\n",
       "    </tr>\n",
       "  </thead>\n",
       "  <tbody>\n",
       "    <tr>\n",
       "      <th>Year</th>\n",
       "      <td>1.000000</td>\n",
       "      <td>0.029700</td>\n",
       "      <td>0.030596</td>\n",
       "      <td>0.033195</td>\n",
       "      <td>0.035689</td>\n",
       "      <td>0.029788</td>\n",
       "      <td>0.539006</td>\n",
       "      <td>0.030095</td>\n",
       "    </tr>\n",
       "    <tr>\n",
       "      <th>Lag1</th>\n",
       "      <td>0.029700</td>\n",
       "      <td>1.000000</td>\n",
       "      <td>-0.026294</td>\n",
       "      <td>-0.010803</td>\n",
       "      <td>-0.002986</td>\n",
       "      <td>-0.005675</td>\n",
       "      <td>0.040910</td>\n",
       "      <td>-0.026155</td>\n",
       "    </tr>\n",
       "    <tr>\n",
       "      <th>Lag2</th>\n",
       "      <td>0.030596</td>\n",
       "      <td>-0.026294</td>\n",
       "      <td>1.000000</td>\n",
       "      <td>-0.025897</td>\n",
       "      <td>-0.010854</td>\n",
       "      <td>-0.003558</td>\n",
       "      <td>-0.043383</td>\n",
       "      <td>-0.010250</td>\n",
       "    </tr>\n",
       "    <tr>\n",
       "      <th>Lag3</th>\n",
       "      <td>0.033195</td>\n",
       "      <td>-0.010803</td>\n",
       "      <td>-0.025897</td>\n",
       "      <td>1.000000</td>\n",
       "      <td>-0.024051</td>\n",
       "      <td>-0.018808</td>\n",
       "      <td>-0.041824</td>\n",
       "      <td>-0.002448</td>\n",
       "    </tr>\n",
       "    <tr>\n",
       "      <th>Lag4</th>\n",
       "      <td>0.035689</td>\n",
       "      <td>-0.002986</td>\n",
       "      <td>-0.010854</td>\n",
       "      <td>-0.024051</td>\n",
       "      <td>1.000000</td>\n",
       "      <td>-0.027084</td>\n",
       "      <td>-0.048414</td>\n",
       "      <td>-0.006900</td>\n",
       "    </tr>\n",
       "    <tr>\n",
       "      <th>Lag5</th>\n",
       "      <td>0.029788</td>\n",
       "      <td>-0.005675</td>\n",
       "      <td>-0.003558</td>\n",
       "      <td>-0.018808</td>\n",
       "      <td>-0.027084</td>\n",
       "      <td>1.000000</td>\n",
       "      <td>-0.022002</td>\n",
       "      <td>-0.034860</td>\n",
       "    </tr>\n",
       "    <tr>\n",
       "      <th>Volume</th>\n",
       "      <td>0.539006</td>\n",
       "      <td>0.040910</td>\n",
       "      <td>-0.043383</td>\n",
       "      <td>-0.041824</td>\n",
       "      <td>-0.048414</td>\n",
       "      <td>-0.022002</td>\n",
       "      <td>1.000000</td>\n",
       "      <td>0.014592</td>\n",
       "    </tr>\n",
       "    <tr>\n",
       "      <th>Today</th>\n",
       "      <td>0.030095</td>\n",
       "      <td>-0.026155</td>\n",
       "      <td>-0.010250</td>\n",
       "      <td>-0.002448</td>\n",
       "      <td>-0.006900</td>\n",
       "      <td>-0.034860</td>\n",
       "      <td>0.014592</td>\n",
       "      <td>1.000000</td>\n",
       "    </tr>\n",
       "  </tbody>\n",
       "</table>\n",
       "</div>"
      ],
      "text/plain": [
       "            Year      Lag1      Lag2      Lag3      Lag4      Lag5    Volume  \\\n",
       "Year    1.000000  0.029700  0.030596  0.033195  0.035689  0.029788  0.539006   \n",
       "Lag1    0.029700  1.000000 -0.026294 -0.010803 -0.002986 -0.005675  0.040910   \n",
       "Lag2    0.030596 -0.026294  1.000000 -0.025897 -0.010854 -0.003558 -0.043383   \n",
       "Lag3    0.033195 -0.010803 -0.025897  1.000000 -0.024051 -0.018808 -0.041824   \n",
       "Lag4    0.035689 -0.002986 -0.010854 -0.024051  1.000000 -0.027084 -0.048414   \n",
       "Lag5    0.029788 -0.005675 -0.003558 -0.018808 -0.027084  1.000000 -0.022002   \n",
       "Volume  0.539006  0.040910 -0.043383 -0.041824 -0.048414 -0.022002  1.000000   \n",
       "Today   0.030095 -0.026155 -0.010250 -0.002448 -0.006900 -0.034860  0.014592   \n",
       "\n",
       "           Today  \n",
       "Year    0.030095  \n",
       "Lag1   -0.026155  \n",
       "Lag2   -0.010250  \n",
       "Lag3   -0.002448  \n",
       "Lag4   -0.006900  \n",
       "Lag5   -0.034860  \n",
       "Volume  0.014592  \n",
       "Today   1.000000  "
      ]
     },
     "execution_count": 244,
     "metadata": {},
     "output_type": "execute_result"
    }
   ],
   "source": [
    "# Paairwise correlations among predictor\n",
    "Smarket.corr()"
   ]
  },
  {
   "cell_type": "code",
   "execution_count": 248,
   "metadata": {
    "collapsed": false
   },
   "outputs": [
    {
     "data": {
      "text/plain": [
       "[<matplotlib.lines.Line2D at 0x11f702b50>]"
      ]
     },
     "execution_count": 248,
     "metadata": {},
     "output_type": "execute_result"
    },
    {
     "data": {
      "image/png": "[encoded data removed]",
      "text/plain": [
       "<matplotlib.figure.Figure at 0x121e8f390>"
      ]
     },
     "metadata": {},
     "output_type": "display_data"
    }
   ],
   "source": [
    "plt.plot(Smarket.Volume)"
   ]
  },
  {
   "cell_type": "code",
   "execution_count": 249,
   "metadata": {
    "collapsed": true
   },
   "outputs": [],
   "source": [
    "Smarket['Direction1'] = Smarket['Direction'].map({'Up':1, 'Down':0})"
   ]
  },
  {
   "cell_type": "code",
   "execution_count": 263,
   "metadata": {
    "collapsed": false
   },
   "outputs": [
    {
     "data": {
      "text/html": [
       "<div>\n",
       "<style>\n",
       "    .dataframe thead tr:only-child th {\n",
       "        text-align: right;\n",
       "    }\n",
       "\n",
       "    .dataframe thead th {\n",
       "        text-align: left;\n",
       "    }\n",
       "\n",
       "    .dataframe tbody tr th {\n",
       "        vertical-align: top;\n",
       "    }\n",
       "</style>\n",
       "<table border=\"1\" class=\"dataframe\">\n",
       "  <thead>\n",
       "    <tr style=\"text-align: right;\">\n",
       "      <th></th>\n",
       "      <th>Coefs</th>\n",
       "      <th>StdErr</th>\n",
       "      <th>zvalues</th>\n",
       "      <th>pvalue</th>\n",
       "      <th>[0.025</th>\n",
       "      <th>0.0975]</th>\n",
       "    </tr>\n",
       "  </thead>\n",
       "  <tbody>\n",
       "    <tr>\n",
       "      <th>Constant</th>\n",
       "      <td>-0.121079</td>\n",
       "      <td>0.240720</td>\n",
       "      <td>-0.502986</td>\n",
       "      <td>0.615063</td>\n",
       "      <td>-0.592882</td>\n",
       "      <td>0.350724</td>\n",
       "    </tr>\n",
       "    <tr>\n",
       "      <th>Lag1</th>\n",
       "      <td>-0.072844</td>\n",
       "      <td>0.050166</td>\n",
       "      <td>-1.452066</td>\n",
       "      <td>0.146734</td>\n",
       "      <td>-0.171167</td>\n",
       "      <td>0.025479</td>\n",
       "    </tr>\n",
       "    <tr>\n",
       "      <th>Lag2</th>\n",
       "      <td>-0.042235</td>\n",
       "      <td>0.050085</td>\n",
       "      <td>-0.843273</td>\n",
       "      <td>0.399237</td>\n",
       "      <td>-0.140400</td>\n",
       "      <td>0.055929</td>\n",
       "    </tr>\n",
       "    <tr>\n",
       "      <th>Lag3</th>\n",
       "      <td>0.011016</td>\n",
       "      <td>0.049938</td>\n",
       "      <td>0.220597</td>\n",
       "      <td>0.825442</td>\n",
       "      <td>-0.086860</td>\n",
       "      <td>0.108892</td>\n",
       "    </tr>\n",
       "    <tr>\n",
       "      <th>Lag4</th>\n",
       "      <td>0.009284</td>\n",
       "      <td>0.049973</td>\n",
       "      <td>0.185773</td>\n",
       "      <td>0.852653</td>\n",
       "      <td>-0.088662</td>\n",
       "      <td>0.107229</td>\n",
       "    </tr>\n",
       "    <tr>\n",
       "      <th>Lag5</th>\n",
       "      <td>0.010263</td>\n",
       "      <td>0.049511</td>\n",
       "      <td>0.207298</td>\n",
       "      <td>0.835811</td>\n",
       "      <td>-0.086776</td>\n",
       "      <td>0.107303</td>\n",
       "    </tr>\n",
       "    <tr>\n",
       "      <th>Volume</th>\n",
       "      <td>0.132108</td>\n",
       "      <td>0.158347</td>\n",
       "      <td>0.834299</td>\n",
       "      <td>0.404272</td>\n",
       "      <td>-0.178245</td>\n",
       "      <td>0.442462</td>\n",
       "    </tr>\n",
       "  </tbody>\n",
       "</table>\n",
       "</div>"
      ],
      "text/plain": [
       "             Coefs    StdErr   zvalues    pvalue    [0.025   0.0975]\n",
       "Constant -0.121079  0.240720 -0.502986  0.615063 -0.592882  0.350724\n",
       "Lag1     -0.072844  0.050166 -1.452066  0.146734 -0.171167  0.025479\n",
       "Lag2     -0.042235  0.050085 -0.843273  0.399237 -0.140400  0.055929\n",
       "Lag3      0.011016  0.049938  0.220597  0.825442 -0.086860  0.108892\n",
       "Lag4      0.009284  0.049973  0.185773  0.852653 -0.088662  0.107229\n",
       "Lag5      0.010263  0.049511  0.207298  0.835811 -0.086776  0.107303\n",
       "Volume    0.132108  0.158347  0.834299  0.404272 -0.178245  0.442462"
      ]
     },
     "execution_count": 263,
     "metadata": {},
     "output_type": "execute_result"
    }
   ],
   "source": [
    "# Logistic regression\n",
    "smLR = LogisticRegression(solver='newton-cg', max_iter=1000)\n",
    "smLR.fit_stats(Smarket[['Lag1', 'Lag2', 'Lag3', 'Lag4', 'Lag5', 'Volume']], Smarket.Direction1)\n",
    "smLR.results"
   ]
  },
  {
   "cell_type": "code",
   "execution_count": 301,
   "metadata": {
    "collapsed": false
   },
   "outputs": [
    {
     "name": "stdout",
     "output_type": "stream",
     "text": [
      "[ 0.5073437   0.48174499  0.48129808  0.51534949  0.5109914   0.5070647\n",
      "  0.49274928  0.50927902  0.51783316  0.48909461]\n",
      "\n",
      "precision: 0.525388601036\n",
      "recall   : 0.782407407407\n",
      "fscore   : 0.628642281463\n",
      "support  : 648\n",
      "accuracy : 0.5208\n"
     ]
    },
    {
     "data": {
      "text/html": [
       "<div>\n",
       "<style>\n",
       "    .dataframe thead tr:only-child th {\n",
       "        text-align: right;\n",
       "    }\n",
       "\n",
       "    .dataframe thead th {\n",
       "        text-align: left;\n",
       "    }\n",
       "\n",
       "    .dataframe tbody tr th {\n",
       "        vertical-align: top;\n",
       "    }\n",
       "</style>\n",
       "<table border=\"1\" class=\"dataframe\">\n",
       "  <thead>\n",
       "    <tr style=\"text-align: right;\">\n",
       "      <th>True</th>\n",
       "      <th>False</th>\n",
       "      <th>True</th>\n",
       "      <th>All</th>\n",
       "    </tr>\n",
       "    <tr>\n",
       "      <th>Predicted</th>\n",
       "      <th></th>\n",
       "      <th></th>\n",
       "      <th></th>\n",
       "    </tr>\n",
       "  </thead>\n",
       "  <tbody>\n",
       "    <tr>\n",
       "      <th>False</th>\n",
       "      <td>144</td>\n",
       "      <td>141</td>\n",
       "      <td>285</td>\n",
       "    </tr>\n",
       "    <tr>\n",
       "      <th>True</th>\n",
       "      <td>458</td>\n",
       "      <td>507</td>\n",
       "      <td>965</td>\n",
       "    </tr>\n",
       "    <tr>\n",
       "      <th>All</th>\n",
       "      <td>602</td>\n",
       "      <td>648</td>\n",
       "      <td>1250</td>\n",
       "    </tr>\n",
       "  </tbody>\n",
       "</table>\n",
       "</div>"
      ],
      "text/plain": [
       "True       False  True   All\n",
       "Predicted                   \n",
       "False        144   141   285\n",
       "True         458   507   965\n",
       "All          602   648  1250"
      ]
     },
     "execution_count": 301,
     "metadata": {},
     "output_type": "execute_result"
    }
   ],
   "source": [
    "sm_proba = smLR.predict_proba(Smarket[['Lag1', 'Lag2', 'Lag3', 'Lag4', 'Lag5', 'Volume']])\n",
    "# Print the first 10 probability\n",
    "print sm_proba[:10,1]\n",
    "print\n",
    "\n",
    "sm_pred = sm_proba[:,1] > 0.5\n",
    "\n",
    "# diagnostic test\n",
    "precision, recall, fscore, support = score(Smarket.Direction1, sm_pred)\n",
    "# Finding accuracy score\n",
    "accuracy = accuracy_score(sm_pred, Smarket.Direction1)\n",
    "print('precision: {}'.format(precision[1]))\n",
    "print('recall   : {}'.format(recall[1]))\n",
    "print('fscore   : {}'.format(fscore[1]))\n",
    "print('support  : {}'.format(support[1]))\n",
    "print \"accuracy : {}\".format(accuracy)\n",
    "# Confusion matrix\n",
    "pd.crosstab(sm_pred, Smarket.Direction1.map({0:'False', 1:'True'}),rownames=['Predicted'], colnames=['True'], margins=True)"
   ]
  },
  {
   "cell_type": "code",
   "execution_count": 302,
   "metadata": {
    "collapsed": false
   },
   "outputs": [],
   "source": [
    "# Test error\n",
    "train = Smarket[Smarket.Year<2005]\n",
    "test = Smarket[Smarket.Year>=2005]"
   ]
  },
  {
   "cell_type": "code",
   "execution_count": 304,
   "metadata": {
    "collapsed": false
   },
   "outputs": [
    {
     "data": {
      "text/html": [
       "<div>\n",
       "<style>\n",
       "    .dataframe thead tr:only-child th {\n",
       "        text-align: right;\n",
       "    }\n",
       "\n",
       "    .dataframe thead th {\n",
       "        text-align: left;\n",
       "    }\n",
       "\n",
       "    .dataframe tbody tr th {\n",
       "        vertical-align: top;\n",
       "    }\n",
       "</style>\n",
       "<table border=\"1\" class=\"dataframe\">\n",
       "  <thead>\n",
       "    <tr style=\"text-align: right;\">\n",
       "      <th></th>\n",
       "      <th>Coefs</th>\n",
       "      <th>StdErr</th>\n",
       "      <th>zvalues</th>\n",
       "      <th>pvalue</th>\n",
       "      <th>[0.025</th>\n",
       "      <th>0.0975]</th>\n",
       "    </tr>\n",
       "  </thead>\n",
       "  <tbody>\n",
       "    <tr>\n",
       "      <th>Constant</th>\n",
       "      <td>0.182594</td>\n",
       "      <td>0.333671</td>\n",
       "      <td>0.547229</td>\n",
       "      <td>0.584344</td>\n",
       "      <td>-0.471388</td>\n",
       "      <td>0.836577</td>\n",
       "    </tr>\n",
       "    <tr>\n",
       "      <th>Lag1</th>\n",
       "      <td>-0.054102</td>\n",
       "      <td>0.051784</td>\n",
       "      <td>-1.044761</td>\n",
       "      <td>0.296387</td>\n",
       "      <td>-0.155596</td>\n",
       "      <td>0.047393</td>\n",
       "    </tr>\n",
       "    <tr>\n",
       "      <th>Lag2</th>\n",
       "      <td>-0.045594</td>\n",
       "      <td>0.051795</td>\n",
       "      <td>-0.880272</td>\n",
       "      <td>0.378924</td>\n",
       "      <td>-0.147110</td>\n",
       "      <td>0.055923</td>\n",
       "    </tr>\n",
       "    <tr>\n",
       "      <th>Lag3</th>\n",
       "      <td>0.007278</td>\n",
       "      <td>0.051643</td>\n",
       "      <td>0.140925</td>\n",
       "      <td>0.887958</td>\n",
       "      <td>-0.093941</td>\n",
       "      <td>0.108496</td>\n",
       "    </tr>\n",
       "    <tr>\n",
       "      <th>Lag4</th>\n",
       "      <td>0.006539</td>\n",
       "      <td>0.051704</td>\n",
       "      <td>0.126479</td>\n",
       "      <td>0.899379</td>\n",
       "      <td>-0.094799</td>\n",
       "      <td>0.107878</td>\n",
       "    </tr>\n",
       "    <tr>\n",
       "      <th>Lag5</th>\n",
       "      <td>-0.004159</td>\n",
       "      <td>0.051137</td>\n",
       "      <td>-0.081322</td>\n",
       "      <td>0.935202</td>\n",
       "      <td>-0.104385</td>\n",
       "      <td>0.096068</td>\n",
       "    </tr>\n",
       "    <tr>\n",
       "      <th>Volume</th>\n",
       "      <td>-0.109954</td>\n",
       "      <td>0.239605</td>\n",
       "      <td>-0.458896</td>\n",
       "      <td>0.646409</td>\n",
       "      <td>-0.579571</td>\n",
       "      <td>0.359663</td>\n",
       "    </tr>\n",
       "  </tbody>\n",
       "</table>\n",
       "</div>"
      ],
      "text/plain": [
       "             Coefs    StdErr   zvalues    pvalue    [0.025   0.0975]\n",
       "Constant  0.182594  0.333671  0.547229  0.584344 -0.471388  0.836577\n",
       "Lag1     -0.054102  0.051784 -1.044761  0.296387 -0.155596  0.047393\n",
       "Lag2     -0.045594  0.051795 -0.880272  0.378924 -0.147110  0.055923\n",
       "Lag3      0.007278  0.051643  0.140925  0.887958 -0.093941  0.108496\n",
       "Lag4      0.006539  0.051704  0.126479  0.899379 -0.094799  0.107878\n",
       "Lag5     -0.004159  0.051137 -0.081322  0.935202 -0.104385  0.096068\n",
       "Volume   -0.109954  0.239605 -0.458896  0.646409 -0.579571  0.359663"
      ]
     },
     "execution_count": 304,
     "metadata": {},
     "output_type": "execute_result"
    }
   ],
   "source": [
    "# Using only Year < 2005 as a train dataset \n",
    "smLR1 = LogisticRegression(solver='newton-cg', max_iter=1000)\n",
    "smLR1.fit_stats(train[['Lag1', 'Lag2', 'Lag3', 'Lag4', 'Lag5', 'Volume']], train.Direction1)\n",
    "smLR1.results"
   ]
  },
  {
   "cell_type": "code",
   "execution_count": 306,
   "metadata": {
    "collapsed": false
   },
   "outputs": [
    {
     "name": "stdout",
     "output_type": "stream",
     "text": [
      "precision: 0.564705882353\n",
      "recall   : 0.340425531915\n",
      "fscore   : 0.424778761062\n",
      "support  : 141\n",
      "accuracy : 0.484126984127\n"
     ]
    },
    {
     "data": {
      "text/html": [
       "<div>\n",
       "<style>\n",
       "    .dataframe thead tr:only-child th {\n",
       "        text-align: right;\n",
       "    }\n",
       "\n",
       "    .dataframe thead th {\n",
       "        text-align: left;\n",
       "    }\n",
       "\n",
       "    .dataframe tbody tr th {\n",
       "        vertical-align: top;\n",
       "    }\n",
       "</style>\n",
       "<table border=\"1\" class=\"dataframe\">\n",
       "  <thead>\n",
       "    <tr style=\"text-align: right;\">\n",
       "      <th>True</th>\n",
       "      <th>False</th>\n",
       "      <th>True</th>\n",
       "      <th>All</th>\n",
       "    </tr>\n",
       "    <tr>\n",
       "      <th>Predicted</th>\n",
       "      <th></th>\n",
       "      <th></th>\n",
       "      <th></th>\n",
       "    </tr>\n",
       "  </thead>\n",
       "  <tbody>\n",
       "    <tr>\n",
       "      <th>0</th>\n",
       "      <td>74</td>\n",
       "      <td>93</td>\n",
       "      <td>167</td>\n",
       "    </tr>\n",
       "    <tr>\n",
       "      <th>1</th>\n",
       "      <td>37</td>\n",
       "      <td>48</td>\n",
       "      <td>85</td>\n",
       "    </tr>\n",
       "    <tr>\n",
       "      <th>All</th>\n",
       "      <td>111</td>\n",
       "      <td>141</td>\n",
       "      <td>252</td>\n",
       "    </tr>\n",
       "  </tbody>\n",
       "</table>\n",
       "</div>"
      ],
      "text/plain": [
       "True       False  True  All\n",
       "Predicted                  \n",
       "0             74    93  167\n",
       "1             37    48   85\n",
       "All          111   141  252"
      ]
     },
     "execution_count": 306,
     "metadata": {},
     "output_type": "execute_result"
    }
   ],
   "source": [
    "sm_pred = smLR1.predict(test[['Lag1', 'Lag2', 'Lag3', 'Lag4', 'Lag5', 'Volume']])\n",
    "# diagnostic test\n",
    "precision, recall, fscore, support = score(test.Direction1, sm_pred)\n",
    "# Finding accuracy score\n",
    "accuracy = accuracy_score(sm_pred, test.Direction1)\n",
    "print('precision: {}'.format(precision[1]))\n",
    "print('recall   : {}'.format(recall[1]))\n",
    "print('fscore   : {}'.format(fscore[1]))\n",
    "print('support  : {}'.format(support[1]))\n",
    "print \"accuracy : {}\".format(accuracy)\n",
    "# Confusion matrix\n",
    "pd.crosstab(sm_pred, test.Direction1.map({0:'False', 1:'True'}),rownames=['Predicted'], colnames=['True'], margins=True)"
   ]
  },
  {
   "cell_type": "code",
   "execution_count": 307,
   "metadata": {
    "collapsed": false
   },
   "outputs": [
    {
     "name": "stdout",
     "output_type": "stream",
     "text": [
      "precision: 0.582417582418\n",
      "recall   : 0.751773049645\n",
      "fscore   : 0.656346749226\n",
      "support  : 141\n",
      "accuracy : 0.559523809524\n"
     ]
    },
    {
     "data": {
      "text/html": [
       "<div>\n",
       "<style>\n",
       "    .dataframe thead tr:only-child th {\n",
       "        text-align: right;\n",
       "    }\n",
       "\n",
       "    .dataframe thead th {\n",
       "        text-align: left;\n",
       "    }\n",
       "\n",
       "    .dataframe tbody tr th {\n",
       "        vertical-align: top;\n",
       "    }\n",
       "</style>\n",
       "<table border=\"1\" class=\"dataframe\">\n",
       "  <thead>\n",
       "    <tr style=\"text-align: right;\">\n",
       "      <th>True</th>\n",
       "      <th>False</th>\n",
       "      <th>True</th>\n",
       "      <th>All</th>\n",
       "    </tr>\n",
       "    <tr>\n",
       "      <th>Predicted</th>\n",
       "      <th></th>\n",
       "      <th></th>\n",
       "      <th></th>\n",
       "    </tr>\n",
       "  </thead>\n",
       "  <tbody>\n",
       "    <tr>\n",
       "      <th>0</th>\n",
       "      <td>35</td>\n",
       "      <td>35</td>\n",
       "      <td>70</td>\n",
       "    </tr>\n",
       "    <tr>\n",
       "      <th>1</th>\n",
       "      <td>76</td>\n",
       "      <td>106</td>\n",
       "      <td>182</td>\n",
       "    </tr>\n",
       "    <tr>\n",
       "      <th>All</th>\n",
       "      <td>111</td>\n",
       "      <td>141</td>\n",
       "      <td>252</td>\n",
       "    </tr>\n",
       "  </tbody>\n",
       "</table>\n",
       "</div>"
      ],
      "text/plain": [
       "True       False  True  All\n",
       "Predicted                  \n",
       "0             35    35   70\n",
       "1             76   106  182\n",
       "All          111   141  252"
      ]
     },
     "execution_count": 307,
     "metadata": {},
     "output_type": "execute_result"
    }
   ],
   "source": [
    "# Only use 2 predictors with highest p-values which are lag1 and lag2\n",
    " \n",
    "smLR1 = LogisticRegression(solver='newton-cg', max_iter=1000)\n",
    "smLR1.fit_stats(train[['Lag1', 'Lag2']], train.Direction1)\n",
    "smLR1.results\n",
    "\n",
    "# predict\n",
    "sm_pred = smLR1.predict(test[['Lag1', 'Lag2']])\n",
    "# diagnostic test\n",
    "precision, recall, fscore, support = score(test.Direction1, sm_pred)\n",
    "# Finding accuracy score\n",
    "accuracy = accuracy_score(sm_pred, test.Direction1)\n",
    "print('precision: {}'.format(precision[1]))\n",
    "print('recall   : {}'.format(recall[1]))\n",
    "print('fscore   : {}'.format(fscore[1]))\n",
    "print('support  : {}'.format(support[1]))\n",
    "print \"accuracy : {}\".format(accuracy)\n",
    "# Confusion matrix\n",
    "pd.crosstab(sm_pred, test.Direction1.map({0:'False', 1:'True'}),rownames=['Predicted'], colnames=['True'], margins=True)"
   ]
  },
  {
   "cell_type": "code",
   "execution_count": 320,
   "metadata": {
    "collapsed": false
   },
   "outputs": [
    {
     "data": {
      "text/plain": [
       "array([ 0.47922482,  0.49612601])"
      ]
     },
     "execution_count": 320,
     "metadata": {},
     "output_type": "execute_result"
    }
   ],
   "source": [
    "# predict with lag1 = [1.2,1.5] and lag2=[1.1,0.8]\n",
    "xtest = np.asarray([[1.2,1.1], [1.5,-0.8]])\n",
    "smLR1.predict_proba(xtest)[:,1]"
   ]
  },
  {
   "cell_type": "code",
   "execution_count": 321,
   "metadata": {
    "collapsed": false
   },
   "outputs": [
    {
     "data": {
      "text/plain": [
       "array([ 0.47922482,  0.49612601])"
      ]
     },
     "execution_count": 321,
     "metadata": {},
     "output_type": "execute_result"
    }
   ],
   "source": [
    "# or using dataframe\n",
    "smLR1.predict_proba(pd.DataFrame({'lag1':[1.2,1.5], 'lag2':[1.1,-0.8]}))[:,1]"
   ]
  },
  {
   "cell_type": "markdown",
   "metadata": {},
   "source": [
    "## Lab LDA"
   ]
  },
  {
   "cell_type": "code",
   "execution_count": 324,
   "metadata": {
    "collapsed": true
   },
   "outputs": [],
   "source": [
    "def print_diagtest(y, y_pred):\n",
    "    # diagnostic test\n",
    "    precision, recall, fscore, support = score(y, y_pred)\n",
    "    # Finding accuracy score\n",
    "    accuracy = accuracy_score(y_pred, y)\n",
    "    print('precision: {}'.format(precision[1]))\n",
    "    print('recall   : {}'.format(recall[1]))\n",
    "    print('fscore   : {}'.format(fscore[1]))\n",
    "    print('support  : {}'.format(support[1]))\n",
    "    print \"accuracy : {}\".format(accuracy)\n",
    "    # Confusion matrix\n",
    "    display(pd.crosstab(y_pred, y,rownames=['Predicted'], colnames=['True'], margins=True))"
   ]
  },
  {
   "cell_type": "code",
   "execution_count": 331,
   "metadata": {
    "collapsed": false
   },
   "outputs": [
    {
     "name": "stdout",
     "output_type": "stream",
     "text": [
      "precision: 0.582417582418\n",
      "recall   : 0.751773049645\n",
      "fscore   : 0.656346749226\n",
      "support  : 141\n",
      "accuracy : 0.559523809524\n"
     ]
    },
    {
     "data": {
      "text/html": [
       "<div>\n",
       "<style>\n",
       "    .dataframe thead tr:only-child th {\n",
       "        text-align: right;\n",
       "    }\n",
       "\n",
       "    .dataframe thead th {\n",
       "        text-align: left;\n",
       "    }\n",
       "\n",
       "    .dataframe tbody tr th {\n",
       "        vertical-align: top;\n",
       "    }\n",
       "</style>\n",
       "<table border=\"1\" class=\"dataframe\">\n",
       "  <thead>\n",
       "    <tr style=\"text-align: right;\">\n",
       "      <th>True</th>\n",
       "      <th>0</th>\n",
       "      <th>1</th>\n",
       "      <th>All</th>\n",
       "    </tr>\n",
       "    <tr>\n",
       "      <th>Predicted</th>\n",
       "      <th></th>\n",
       "      <th></th>\n",
       "      <th></th>\n",
       "    </tr>\n",
       "  </thead>\n",
       "  <tbody>\n",
       "    <tr>\n",
       "      <th>0</th>\n",
       "      <td>35</td>\n",
       "      <td>35</td>\n",
       "      <td>70</td>\n",
       "    </tr>\n",
       "    <tr>\n",
       "      <th>1</th>\n",
       "      <td>76</td>\n",
       "      <td>106</td>\n",
       "      <td>182</td>\n",
       "    </tr>\n",
       "    <tr>\n",
       "      <th>All</th>\n",
       "      <td>111</td>\n",
       "      <td>141</td>\n",
       "      <td>252</td>\n",
       "    </tr>\n",
       "  </tbody>\n",
       "</table>\n",
       "</div>"
      ],
      "text/plain": [
       "True         0    1  All\n",
       "Predicted               \n",
       "0           35   35   70\n",
       "1           76  106  182\n",
       "All        111  141  252"
      ]
     },
     "metadata": {},
     "output_type": "display_data"
    }
   ],
   "source": [
    "smlda = LinearDiscriminantAnalysis()\n",
    "smlda.fit(train[['Lag1', 'Lag2']], train.Direction1)\n",
    "y_pred = smlda.predict(test[['Lag1', 'Lag2']])\n",
    "\n",
    "# printing diagnostic test\n",
    "print_diagtest(test.Direction1, y_pred)"
   ]
  },
  {
   "cell_type": "markdown",
   "metadata": {},
   "source": [
    "## Quadratic Discriminant Analysis"
   ]
  },
  {
   "cell_type": "code",
   "execution_count": 348,
   "metadata": {
    "collapsed": false
   },
   "outputs": [
    {
     "name": "stdout",
     "output_type": "stream",
     "text": [
      "precision: 0.59900990099\n",
      "recall   : 0.858156028369\n",
      "fscore   : 0.705539358601\n",
      "support  : 141\n",
      "accuracy : 0.599206349206\n"
     ]
    },
    {
     "data": {
      "text/html": [
       "<div>\n",
       "<style>\n",
       "    .dataframe thead tr:only-child th {\n",
       "        text-align: right;\n",
       "    }\n",
       "\n",
       "    .dataframe thead th {\n",
       "        text-align: left;\n",
       "    }\n",
       "\n",
       "    .dataframe tbody tr th {\n",
       "        vertical-align: top;\n",
       "    }\n",
       "</style>\n",
       "<table border=\"1\" class=\"dataframe\">\n",
       "  <thead>\n",
       "    <tr style=\"text-align: right;\">\n",
       "      <th>True</th>\n",
       "      <th>0</th>\n",
       "      <th>1</th>\n",
       "      <th>All</th>\n",
       "    </tr>\n",
       "    <tr>\n",
       "      <th>Predicted</th>\n",
       "      <th></th>\n",
       "      <th></th>\n",
       "      <th></th>\n",
       "    </tr>\n",
       "  </thead>\n",
       "  <tbody>\n",
       "    <tr>\n",
       "      <th>0</th>\n",
       "      <td>30</td>\n",
       "      <td>20</td>\n",
       "      <td>50</td>\n",
       "    </tr>\n",
       "    <tr>\n",
       "      <th>1</th>\n",
       "      <td>81</td>\n",
       "      <td>121</td>\n",
       "      <td>202</td>\n",
       "    </tr>\n",
       "    <tr>\n",
       "      <th>All</th>\n",
       "      <td>111</td>\n",
       "      <td>141</td>\n",
       "      <td>252</td>\n",
       "    </tr>\n",
       "  </tbody>\n",
       "</table>\n",
       "</div>"
      ],
      "text/plain": [
       "True         0    1  All\n",
       "Predicted               \n",
       "0           30   20   50\n",
       "1           81  121  202\n",
       "All        111  141  252"
      ]
     },
     "metadata": {},
     "output_type": "display_data"
    }
   ],
   "source": [
    "smqda = QuadraticDiscriminantAnalysis()\n",
    "smqda.fit(train[['Lag1', 'Lag2']], train.Direction1)\n",
    "y_pred = smqda.predict(test[['Lag1', 'Lag2']])\n",
    "\n",
    "# printing diagnostic test\n",
    "print_diagtest(test.Direction1, y_pred)"
   ]
  },
  {
   "cell_type": "markdown",
   "metadata": {},
   "source": [
    "**QDA** captured the true relationship more accurately than the linear forms assumed by **LDA** and **Logistic regression**"
   ]
  },
  {
   "cell_type": "code",
   "execution_count": 374,
   "metadata": {
    "collapsed": false
   },
   "outputs": [
    {
     "data": {
      "image/png": "[encoded data removed]",
      "text/plain": [
       "<matplotlib.figure.Figure at 0x126c47110>"
      ]
     },
     "metadata": {},
     "output_type": "display_data"
    }
   ],
   "source": [
    "from matplotlib import colors\n",
    "# Colormap\n",
    "cmap = colors.LinearSegmentedColormap(\n",
    "    'red_blue_classes',\n",
    "    {'red': [(0, 1, 1), (1, 0.7, 0.7)],\n",
    "     'green': [(0, 0.7, 0.7), (1, 0.7, 0.7)],\n",
    "     'blue': [(0, 0.7, 0.7), (1, 1, 1)]})\n",
    "plt.cm.register_cmap(cmap=cmap)\n",
    "\n",
    "sns.lmplot(x='Lag1', y='Lag2', hue='Direction1', data=train, fit_reg=False)\n",
    "# class 0 and 1 : areas\n",
    "nx, ny = 200, 100\n",
    "x_min, x_max = plt.xlim()\n",
    "y_min, y_max = plt.ylim()\n",
    "xx, yy = np.meshgrid(np.linspace(x_min, x_max, nx),\n",
    "                     np.linspace(y_min, y_max, ny))\n",
    "Z = smqda.predict_proba(np.c_[xx.ravel(), yy.ravel()])\n",
    "Z = Z[:, 1].reshape(xx.shape)\n",
    "#plt.pcolormesh(xx, yy, Z, alpha=0.1,cmap='red_blue_classes', norm=colors.Normalize(0.0,1.0))\n",
    "plt.contour(xx, yy, Z, [0.5], linewidths=2., colors='k')\n",
    "plt.show()"
   ]
  },
  {
   "cell_type": "markdown",
   "metadata": {},
   "source": [
    "## K-Nearest Neighbors"
   ]
  },
  {
   "cell_type": "code",
   "execution_count": 340,
   "metadata": {
    "collapsed": true
   },
   "outputs": [],
   "source": [
    "from sklearn.neighbors import KNeighborsClassifier"
   ]
  },
  {
   "cell_type": "code",
   "execution_count": 342,
   "metadata": {
    "collapsed": false
   },
   "outputs": [
    {
     "name": "stdout",
     "output_type": "stream",
     "text": [
      "precision: 0.549668874172\n",
      "recall   : 0.58865248227\n",
      "fscore   : 0.568493150685\n",
      "support  : 141\n",
      "accuracy : 0.5\n"
     ]
    },
    {
     "data": {
      "text/html": [
       "<div>\n",
       "<style>\n",
       "    .dataframe thead tr:only-child th {\n",
       "        text-align: right;\n",
       "    }\n",
       "\n",
       "    .dataframe thead th {\n",
       "        text-align: left;\n",
       "    }\n",
       "\n",
       "    .dataframe tbody tr th {\n",
       "        vertical-align: top;\n",
       "    }\n",
       "</style>\n",
       "<table border=\"1\" class=\"dataframe\">\n",
       "  <thead>\n",
       "    <tr style=\"text-align: right;\">\n",
       "      <th>True</th>\n",
       "      <th>0</th>\n",
       "      <th>1</th>\n",
       "      <th>All</th>\n",
       "    </tr>\n",
       "    <tr>\n",
       "      <th>Predicted</th>\n",
       "      <th></th>\n",
       "      <th></th>\n",
       "      <th></th>\n",
       "    </tr>\n",
       "  </thead>\n",
       "  <tbody>\n",
       "    <tr>\n",
       "      <th>0</th>\n",
       "      <td>43</td>\n",
       "      <td>58</td>\n",
       "      <td>101</td>\n",
       "    </tr>\n",
       "    <tr>\n",
       "      <th>1</th>\n",
       "      <td>68</td>\n",
       "      <td>83</td>\n",
       "      <td>151</td>\n",
       "    </tr>\n",
       "    <tr>\n",
       "      <th>All</th>\n",
       "      <td>111</td>\n",
       "      <td>141</td>\n",
       "      <td>252</td>\n",
       "    </tr>\n",
       "  </tbody>\n",
       "</table>\n",
       "</div>"
      ],
      "text/plain": [
       "True         0    1  All\n",
       "Predicted               \n",
       "0           43   58  101\n",
       "1           68   83  151\n",
       "All        111  141  252"
      ]
     },
     "metadata": {},
     "output_type": "display_data"
    }
   ],
   "source": [
    "smknn = KNeighborsClassifier(n_neighbors=1)\n",
    "smknn.fit(train[['Lag1', 'Lag2']], train.Direction1)\n",
    "y_pred = smknn.predict(test[['Lag1', 'Lag2']])\n",
    "\n",
    "# printing diagnostic test\n",
    "print_diagtest(test.Direction1, y_pred)"
   ]
  },
  {
   "cell_type": "code",
   "execution_count": 344,
   "metadata": {
    "collapsed": false
   },
   "outputs": [
    {
     "name": "stdout",
     "output_type": "stream",
     "text": [
      "precision: 0.577181208054\n",
      "recall   : 0.609929078014\n",
      "fscore   : 0.593103448276\n",
      "support  : 141\n",
      "accuracy : 0.531746031746\n"
     ]
    },
    {
     "data": {
      "text/html": [
       "<div>\n",
       "<style>\n",
       "    .dataframe thead tr:only-child th {\n",
       "        text-align: right;\n",
       "    }\n",
       "\n",
       "    .dataframe thead th {\n",
       "        text-align: left;\n",
       "    }\n",
       "\n",
       "    .dataframe tbody tr th {\n",
       "        vertical-align: top;\n",
       "    }\n",
       "</style>\n",
       "<table border=\"1\" class=\"dataframe\">\n",
       "  <thead>\n",
       "    <tr style=\"text-align: right;\">\n",
       "      <th>True</th>\n",
       "      <th>0</th>\n",
       "      <th>1</th>\n",
       "      <th>All</th>\n",
       "    </tr>\n",
       "    <tr>\n",
       "      <th>Predicted</th>\n",
       "      <th></th>\n",
       "      <th></th>\n",
       "      <th></th>\n",
       "    </tr>\n",
       "  </thead>\n",
       "  <tbody>\n",
       "    <tr>\n",
       "      <th>0</th>\n",
       "      <td>48</td>\n",
       "      <td>55</td>\n",
       "      <td>103</td>\n",
       "    </tr>\n",
       "    <tr>\n",
       "      <th>1</th>\n",
       "      <td>63</td>\n",
       "      <td>86</td>\n",
       "      <td>149</td>\n",
       "    </tr>\n",
       "    <tr>\n",
       "      <th>All</th>\n",
       "      <td>111</td>\n",
       "      <td>141</td>\n",
       "      <td>252</td>\n",
       "    </tr>\n",
       "  </tbody>\n",
       "</table>\n",
       "</div>"
      ],
      "text/plain": [
       "True         0    1  All\n",
       "Predicted               \n",
       "0           48   55  103\n",
       "1           63   86  149\n",
       "All        111  141  252"
      ]
     },
     "metadata": {},
     "output_type": "display_data"
    }
   ],
   "source": [
    "# Change the number of Neighbors to K = 3\n",
    "smknn = KNeighborsClassifier(n_neighbors=3)\n",
    "smknn.fit(train[['Lag1', 'Lag2']], train.Direction1)\n",
    "y_pred = smknn.predict(test[['Lag1', 'Lag2']])\n",
    "\n",
    "# printing diagnostic test\n",
    "print_diagtest(test.Direction1, y_pred)"
   ]
  },
  {
   "cell_type": "code",
   "execution_count": 346,
   "metadata": {
    "collapsed": false
   },
   "outputs": [
    {
     "name": "stdout",
     "output_type": "stream",
     "text": [
      "precision: 0.535947712418\n",
      "recall   : 0.581560283688\n",
      "fscore   : 0.557823129252\n",
      "support  : 141\n",
      "accuracy : 0.484126984127\n"
     ]
    },
    {
     "data": {
      "text/html": [
       "<div>\n",
       "<style>\n",
       "    .dataframe thead tr:only-child th {\n",
       "        text-align: right;\n",
       "    }\n",
       "\n",
       "    .dataframe thead th {\n",
       "        text-align: left;\n",
       "    }\n",
       "\n",
       "    .dataframe tbody tr th {\n",
       "        vertical-align: top;\n",
       "    }\n",
       "</style>\n",
       "<table border=\"1\" class=\"dataframe\">\n",
       "  <thead>\n",
       "    <tr style=\"text-align: right;\">\n",
       "      <th>True</th>\n",
       "      <th>0</th>\n",
       "      <th>1</th>\n",
       "      <th>All</th>\n",
       "    </tr>\n",
       "    <tr>\n",
       "      <th>Predicted</th>\n",
       "      <th></th>\n",
       "      <th></th>\n",
       "      <th></th>\n",
       "    </tr>\n",
       "  </thead>\n",
       "  <tbody>\n",
       "    <tr>\n",
       "      <th>0</th>\n",
       "      <td>40</td>\n",
       "      <td>59</td>\n",
       "      <td>99</td>\n",
       "    </tr>\n",
       "    <tr>\n",
       "      <th>1</th>\n",
       "      <td>71</td>\n",
       "      <td>82</td>\n",
       "      <td>153</td>\n",
       "    </tr>\n",
       "    <tr>\n",
       "      <th>All</th>\n",
       "      <td>111</td>\n",
       "      <td>141</td>\n",
       "      <td>252</td>\n",
       "    </tr>\n",
       "  </tbody>\n",
       "</table>\n",
       "</div>"
      ],
      "text/plain": [
       "True         0    1  All\n",
       "Predicted               \n",
       "0           40   59   99\n",
       "1           71   82  153\n",
       "All        111  141  252"
      ]
     },
     "metadata": {},
     "output_type": "display_data"
    }
   ],
   "source": [
    "# Change the number of Neighbors to K = 6\n",
    "smknn = KNeighborsClassifier(n_neighbors=5)\n",
    "smknn.fit(train[['Lag1', 'Lag2']], train.Direction1)\n",
    "y_pred = smknn.predict(test[['Lag1', 'Lag2']])\n",
    "\n",
    "# printing diagnostic test\n",
    "print_diagtest(test.Direction1, y_pred)"
   ]
  },
  {
   "cell_type": "markdown",
   "metadata": {},
   "source": [
    "Increasing K > 3 did not improve the fit. This means that the best method we got so far is the **QDA** with an accuracy of 0.599 (60%)"
   ]
  },
  {
   "cell_type": "markdown",
   "metadata": {},
   "source": [
    "# Lab: Caravan Insurance Data"
   ]
  },
  {
   "cell_type": "code",
   "execution_count": 375,
   "metadata": {
    "collapsed": true
   },
   "outputs": [],
   "source": [
    "Caravan = pd.read_csv('Data/Caravan.csv')"
   ]
  },
  {
   "cell_type": "code",
   "execution_count": 376,
   "metadata": {
    "collapsed": false
   },
   "outputs": [
    {
     "data": {
      "text/html": [
       "<div>\n",
       "<style>\n",
       "    .dataframe thead tr:only-child th {\n",
       "        text-align: right;\n",
       "    }\n",
       "\n",
       "    .dataframe thead th {\n",
       "        text-align: left;\n",
       "    }\n",
       "\n",
       "    .dataframe tbody tr th {\n",
       "        vertical-align: top;\n",
       "    }\n",
       "</style>\n",
       "<table border=\"1\" class=\"dataframe\">\n",
       "  <thead>\n",
       "    <tr style=\"text-align: right;\">\n",
       "      <th></th>\n",
       "      <th>Unnamed: 0</th>\n",
       "      <th>MOSTYPE</th>\n",
       "      <th>MAANTHUI</th>\n",
       "      <th>MGEMOMV</th>\n",
       "      <th>MGEMLEEF</th>\n",
       "      <th>MOSHOOFD</th>\n",
       "      <th>MGODRK</th>\n",
       "      <th>MGODPR</th>\n",
       "      <th>MGODOV</th>\n",
       "      <th>MGODGE</th>\n",
       "      <th>...</th>\n",
       "      <th>APERSONG</th>\n",
       "      <th>AGEZONG</th>\n",
       "      <th>AWAOREG</th>\n",
       "      <th>ABRAND</th>\n",
       "      <th>AZEILPL</th>\n",
       "      <th>APLEZIER</th>\n",
       "      <th>AFIETS</th>\n",
       "      <th>AINBOED</th>\n",
       "      <th>ABYSTAND</th>\n",
       "      <th>Purchase</th>\n",
       "    </tr>\n",
       "  </thead>\n",
       "  <tbody>\n",
       "    <tr>\n",
       "      <th>0</th>\n",
       "      <td>1</td>\n",
       "      <td>33</td>\n",
       "      <td>1</td>\n",
       "      <td>3</td>\n",
       "      <td>2</td>\n",
       "      <td>8</td>\n",
       "      <td>0</td>\n",
       "      <td>5</td>\n",
       "      <td>1</td>\n",
       "      <td>3</td>\n",
       "      <td>...</td>\n",
       "      <td>0</td>\n",
       "      <td>0</td>\n",
       "      <td>0</td>\n",
       "      <td>1</td>\n",
       "      <td>0</td>\n",
       "      <td>0</td>\n",
       "      <td>0</td>\n",
       "      <td>0</td>\n",
       "      <td>0</td>\n",
       "      <td>No</td>\n",
       "    </tr>\n",
       "    <tr>\n",
       "      <th>1</th>\n",
       "      <td>2</td>\n",
       "      <td>37</td>\n",
       "      <td>1</td>\n",
       "      <td>2</td>\n",
       "      <td>2</td>\n",
       "      <td>8</td>\n",
       "      <td>1</td>\n",
       "      <td>4</td>\n",
       "      <td>1</td>\n",
       "      <td>4</td>\n",
       "      <td>...</td>\n",
       "      <td>0</td>\n",
       "      <td>0</td>\n",
       "      <td>0</td>\n",
       "      <td>1</td>\n",
       "      <td>0</td>\n",
       "      <td>0</td>\n",
       "      <td>0</td>\n",
       "      <td>0</td>\n",
       "      <td>0</td>\n",
       "      <td>No</td>\n",
       "    </tr>\n",
       "  </tbody>\n",
       "</table>\n",
       "<p>2 rows × 87 columns</p>\n",
       "</div>"
      ],
      "text/plain": [
       "   Unnamed: 0  MOSTYPE  MAANTHUI  MGEMOMV  MGEMLEEF  MOSHOOFD  MGODRK  MGODPR  \\\n",
       "0           1       33         1        3         2         8       0       5   \n",
       "1           2       37         1        2         2         8       1       4   \n",
       "\n",
       "   MGODOV  MGODGE    ...     APERSONG  AGEZONG  AWAOREG  ABRAND  AZEILPL  \\\n",
       "0       1       3    ...            0        0        0       1        0   \n",
       "1       1       4    ...            0        0        0       1        0   \n",
       "\n",
       "   APLEZIER  AFIETS  AINBOED  ABYSTAND  Purchase  \n",
       "0         0       0        0         0        No  \n",
       "1         0       0        0         0        No  \n",
       "\n",
       "[2 rows x 87 columns]"
      ]
     },
     "execution_count": 376,
     "metadata": {},
     "output_type": "execute_result"
    }
   ],
   "source": [
    "Caravan.head(2)"
   ]
  },
  {
   "cell_type": "code",
   "execution_count": 382,
   "metadata": {
    "collapsed": false
   },
   "outputs": [
    {
     "data": {
      "text/plain": [
       "count     5822\n",
       "unique       2\n",
       "top         No\n",
       "freq      5474\n",
       "Name: Purchase, dtype: object"
      ]
     },
     "execution_count": 382,
     "metadata": {},
     "output_type": "execute_result"
    }
   ],
   "source": [
    "Caravan.Purchase.describe()"
   ]
  },
  {
   "cell_type": "code",
   "execution_count": 389,
   "metadata": {
    "collapsed": false
   },
   "outputs": [],
   "source": [
    "# Standardize the data to have a zero mean and standard deviation of 1\n",
    "scaler = preprocessing.StandardScaler()\n",
    "Caravan_std = scaler.fit_transform(Caravan.loc[:, Caravan.columns != 'Purchase'])\n",
    "test_car = Caravan_std[:1000,:]\n",
    "y_test = Caravan.Purchase.values[:1000]\n",
    "train_car = Caravan_std[1000:,:]\n",
    "y_train = Caravan.Purchase.values[1000:]\n"
   ]
  },
  {
   "cell_type": "code",
   "execution_count": 390,
   "metadata": {
    "collapsed": false
   },
   "outputs": [
    {
     "name": "stdout",
     "output_type": "stream",
     "text": [
      "precision: 0.157142857143\n",
      "recall   : 0.186440677966\n",
      "fscore   : 0.170542635659\n",
      "support  : 59\n",
      "accuracy : 0.893\n"
     ]
    },
    {
     "data": {
      "text/html": [
       "<div>\n",
       "<style>\n",
       "    .dataframe thead tr:only-child th {\n",
       "        text-align: right;\n",
       "    }\n",
       "\n",
       "    .dataframe thead th {\n",
       "        text-align: left;\n",
       "    }\n",
       "\n",
       "    .dataframe tbody tr th {\n",
       "        vertical-align: top;\n",
       "    }\n",
       "</style>\n",
       "<table border=\"1\" class=\"dataframe\">\n",
       "  <thead>\n",
       "    <tr style=\"text-align: right;\">\n",
       "      <th>True</th>\n",
       "      <th>No</th>\n",
       "      <th>Yes</th>\n",
       "      <th>All</th>\n",
       "    </tr>\n",
       "    <tr>\n",
       "      <th>Predicted</th>\n",
       "      <th></th>\n",
       "      <th></th>\n",
       "      <th></th>\n",
       "    </tr>\n",
       "  </thead>\n",
       "  <tbody>\n",
       "    <tr>\n",
       "      <th>No</th>\n",
       "      <td>882</td>\n",
       "      <td>48</td>\n",
       "      <td>930</td>\n",
       "    </tr>\n",
       "    <tr>\n",
       "      <th>Yes</th>\n",
       "      <td>59</td>\n",
       "      <td>11</td>\n",
       "      <td>70</td>\n",
       "    </tr>\n",
       "    <tr>\n",
       "      <th>All</th>\n",
       "      <td>941</td>\n",
       "      <td>59</td>\n",
       "      <td>1000</td>\n",
       "    </tr>\n",
       "  </tbody>\n",
       "</table>\n",
       "</div>"
      ],
      "text/plain": [
       "True        No  Yes   All\n",
       "Predicted                \n",
       "No         882   48   930\n",
       "Yes         59   11    70\n",
       "All        941   59  1000"
      ]
     },
     "metadata": {},
     "output_type": "display_data"
    }
   ],
   "source": [
    "carknn = KNeighborsClassifier(n_neighbors=1)\n",
    "carknn.fit(train_car, y_train)\n",
    "y_pred = carknn.predict(test_car)\n",
    "\n",
    "# printing diagnostic test\n",
    "print_diagtest(y_test, y_pred)"
   ]
  },
  {
   "cell_type": "code",
   "execution_count": 391,
   "metadata": {
    "collapsed": false
   },
   "outputs": [
    {
     "name": "stdout",
     "output_type": "stream",
     "text": [
      "precision: 0.230769230769\n",
      "recall   : 0.101694915254\n",
      "fscore   : 0.141176470588\n",
      "support  : 59\n",
      "accuracy : 0.927\n"
     ]
    },
    {
     "data": {
      "text/html": [
       "<div>\n",
       "<style>\n",
       "    .dataframe thead tr:only-child th {\n",
       "        text-align: right;\n",
       "    }\n",
       "\n",
       "    .dataframe thead th {\n",
       "        text-align: left;\n",
       "    }\n",
       "\n",
       "    .dataframe tbody tr th {\n",
       "        vertical-align: top;\n",
       "    }\n",
       "</style>\n",
       "<table border=\"1\" class=\"dataframe\">\n",
       "  <thead>\n",
       "    <tr style=\"text-align: right;\">\n",
       "      <th>True</th>\n",
       "      <th>No</th>\n",
       "      <th>Yes</th>\n",
       "      <th>All</th>\n",
       "    </tr>\n",
       "    <tr>\n",
       "      <th>Predicted</th>\n",
       "      <th></th>\n",
       "      <th></th>\n",
       "      <th></th>\n",
       "    </tr>\n",
       "  </thead>\n",
       "  <tbody>\n",
       "    <tr>\n",
       "      <th>No</th>\n",
       "      <td>921</td>\n",
       "      <td>53</td>\n",
       "      <td>974</td>\n",
       "    </tr>\n",
       "    <tr>\n",
       "      <th>Yes</th>\n",
       "      <td>20</td>\n",
       "      <td>6</td>\n",
       "      <td>26</td>\n",
       "    </tr>\n",
       "    <tr>\n",
       "      <th>All</th>\n",
       "      <td>941</td>\n",
       "      <td>59</td>\n",
       "      <td>1000</td>\n",
       "    </tr>\n",
       "  </tbody>\n",
       "</table>\n",
       "</div>"
      ],
      "text/plain": [
       "True        No  Yes   All\n",
       "Predicted                \n",
       "No         921   53   974\n",
       "Yes         20    6    26\n",
       "All        941   59  1000"
      ]
     },
     "metadata": {},
     "output_type": "display_data"
    }
   ],
   "source": [
    "# Using K=3\n",
    "carknn = KNeighborsClassifier(n_neighbors=3)\n",
    "carknn.fit(train_car, y_train)\n",
    "y_pred = carknn.predict(test_car)\n",
    "\n",
    "# printing diagnostic test\n",
    "print_diagtest(y_test, y_pred)"
   ]
  },
  {
   "cell_type": "code",
   "execution_count": 392,
   "metadata": {
    "collapsed": false
   },
   "outputs": [
    {
     "name": "stdout",
     "output_type": "stream",
     "text": [
      "precision: 0.363636363636\n",
      "recall   : 0.0677966101695\n",
      "fscore   : 0.114285714286\n",
      "support  : 59\n",
      "accuracy : 0.938\n"
     ]
    },
    {
     "data": {
      "text/html": [
       "<div>\n",
       "<style>\n",
       "    .dataframe thead tr:only-child th {\n",
       "        text-align: right;\n",
       "    }\n",
       "\n",
       "    .dataframe thead th {\n",
       "        text-align: left;\n",
       "    }\n",
       "\n",
       "    .dataframe tbody tr th {\n",
       "        vertical-align: top;\n",
       "    }\n",
       "</style>\n",
       "<table border=\"1\" class=\"dataframe\">\n",
       "  <thead>\n",
       "    <tr style=\"text-align: right;\">\n",
       "      <th>True</th>\n",
       "      <th>No</th>\n",
       "      <th>Yes</th>\n",
       "      <th>All</th>\n",
       "    </tr>\n",
       "    <tr>\n",
       "      <th>Predicted</th>\n",
       "      <th></th>\n",
       "      <th></th>\n",
       "      <th></th>\n",
       "    </tr>\n",
       "  </thead>\n",
       "  <tbody>\n",
       "    <tr>\n",
       "      <th>No</th>\n",
       "      <td>934</td>\n",
       "      <td>55</td>\n",
       "      <td>989</td>\n",
       "    </tr>\n",
       "    <tr>\n",
       "      <th>Yes</th>\n",
       "      <td>7</td>\n",
       "      <td>4</td>\n",
       "      <td>11</td>\n",
       "    </tr>\n",
       "    <tr>\n",
       "      <th>All</th>\n",
       "      <td>941</td>\n",
       "      <td>59</td>\n",
       "      <td>1000</td>\n",
       "    </tr>\n",
       "  </tbody>\n",
       "</table>\n",
       "</div>"
      ],
      "text/plain": [
       "True        No  Yes   All\n",
       "Predicted                \n",
       "No         934   55   989\n",
       "Yes          7    4    11\n",
       "All        941   59  1000"
      ]
     },
     "metadata": {},
     "output_type": "display_data"
    }
   ],
   "source": [
    "# Using K=5\n",
    "carknn = KNeighborsClassifier(n_neighbors=5)\n",
    "carknn.fit(train_car, y_train)\n",
    "y_pred = carknn.predict(test_car)\n",
    "\n",
    "# printing diagnostic test\n",
    "print_diagtest(y_test, y_pred)"
   ]
  },
  {
   "cell_type": "markdown",
   "metadata": {},
   "source": [
    "# Testing the logistic regression on the Car insurance data"
   ]
  },
  {
   "cell_type": "code",
   "execution_count": 405,
   "metadata": {
    "collapsed": false
   },
   "outputs": [
    {
     "name": "stdout",
     "output_type": "stream",
     "text": [
      "precision: 0.0\n",
      "recall   : 0.0\n",
      "fscore   : 0.0\n",
      "support  : 59\n",
      "accuracy : 0.935\n"
     ]
    },
    {
     "data": {
      "text/html": [
       "<div>\n",
       "<style>\n",
       "    .dataframe thead tr:only-child th {\n",
       "        text-align: right;\n",
       "    }\n",
       "\n",
       "    .dataframe thead th {\n",
       "        text-align: left;\n",
       "    }\n",
       "\n",
       "    .dataframe tbody tr th {\n",
       "        vertical-align: top;\n",
       "    }\n",
       "</style>\n",
       "<table border=\"1\" class=\"dataframe\">\n",
       "  <thead>\n",
       "    <tr style=\"text-align: right;\">\n",
       "      <th>True</th>\n",
       "      <th>No</th>\n",
       "      <th>Yes</th>\n",
       "      <th>All</th>\n",
       "    </tr>\n",
       "    <tr>\n",
       "      <th>Predicted</th>\n",
       "      <th></th>\n",
       "      <th></th>\n",
       "      <th></th>\n",
       "    </tr>\n",
       "  </thead>\n",
       "  <tbody>\n",
       "    <tr>\n",
       "      <th>No</th>\n",
       "      <td>935</td>\n",
       "      <td>59</td>\n",
       "      <td>994</td>\n",
       "    </tr>\n",
       "    <tr>\n",
       "      <th>Yes</th>\n",
       "      <td>6</td>\n",
       "      <td>0</td>\n",
       "      <td>6</td>\n",
       "    </tr>\n",
       "    <tr>\n",
       "      <th>All</th>\n",
       "      <td>941</td>\n",
       "      <td>59</td>\n",
       "      <td>1000</td>\n",
       "    </tr>\n",
       "  </tbody>\n",
       "</table>\n",
       "</div>"
      ],
      "text/plain": [
       "True        No  Yes   All\n",
       "Predicted                \n",
       "No         935   59   994\n",
       "Yes          6    0     6\n",
       "All        941   59  1000"
      ]
     },
     "metadata": {},
     "output_type": "display_data"
    }
   ],
   "source": [
    "carLR = LogisticRegression(solver='newton-cg', max_iter=1000)\n",
    "carLR.fit(train_car, y_train)\n",
    "y_pred = carLR.predict(test_car)\n",
    "\n",
    "# printing diagnostic test\n",
    "print_diagtest(y_test, y_pred)\n"
   ]
  },
  {
   "cell_type": "markdown",
   "metadata": {},
   "source": [
    "Only 6 were predicted to buy car insurance and all of them are wrong"
   ]
  },
  {
   "cell_type": "code",
   "execution_count": null,
   "metadata": {
    "collapsed": true
   },
   "outputs": [],
   "source": []
  },
  {
   "cell_type": "code",
   "execution_count": null,
   "metadata": {
    "collapsed": true
   },
   "outputs": [],
   "source": []
  },
  {
   "cell_type": "code",
   "execution_count": null,
   "metadata": {
    "collapsed": true
   },
   "outputs": [],
   "source": []
  },
  {
   "cell_type": "code",
   "execution_count": null,
   "metadata": {
    "collapsed": true
   },
   "outputs": [],
   "source": []
  },
  {
   "cell_type": "code",
   "execution_count": null,
   "metadata": {
    "collapsed": true
   },
   "outputs": [],
   "source": []
  },
  {
   "cell_type": "code",
   "execution_count": null,
   "metadata": {
    "collapsed": true
   },
   "outputs": [],
   "source": []
  },
  {
   "cell_type": "code",
   "execution_count": null,
   "metadata": {
    "collapsed": true
   },
   "outputs": [],
   "source": []
  }
 ],
 "metadata": {
  "kernelspec": {
   "display_name": "Python [default]",
   "language": "python",
   "name": "python2"
  },
  "language_info": {
   "codemirror_mode": {
    "name": "ipython",
    "version": 2
   },
   "file_extension": ".py",
   "mimetype": "text/x-python",
   "name": "python",
   "nbconvert_exporter": "python",
   "pygments_lexer": "ipython2",
   "version": "2.7.12"
  }
 },
 "nbformat": 4,
 "nbformat_minor": 1
}
