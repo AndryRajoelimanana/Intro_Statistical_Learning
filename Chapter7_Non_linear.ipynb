{
 "cells": [
  {
   "cell_type": "markdown",
   "metadata": {},
   "source": [
    "# Chapter7: Moving Beyond Linearity"
   ]
  },
  {
   "cell_type": "code",
   "execution_count": 2,
   "metadata": {
    "collapsed": true
   },
   "outputs": [],
   "source": [
    "import pandas as pd\n",
    "import random\n",
    "import math\n",
    "import operator\n",
    "import numpy as np\n",
    "import scipy as sc\n",
    "from IPython.display import display, HTML"
   ]
  },
  {
   "cell_type": "code",
   "execution_count": 1,
   "metadata": {
    "collapsed": false
   },
   "outputs": [
    {
     "name": "stderr",
     "output_type": "stream",
     "text": [
      "/Users/ando/anaconda/lib/python2.7/site-packages/statsmodels/compat/pandas.py:56: FutureWarning: The pandas.core.datetools module is deprecated and will be removed in a future version. Please use the pandas.tseries module instead.\n",
      "  from pandas.core import datetools\n"
     ]
    }
   ],
   "source": [
    "# Statsmodel\n",
    "import statsmodels.api as sm\n",
    "from statsmodels.sandbox.regression.predstd import wls_prediction_std\n",
    "import statsmodels.formula.api as smf\n",
    "from statsmodels.stats.outliers_influence import summary_table\n",
    "\n",
    "# Modelling\n",
    "from sklearn import linear_model\n",
    "from sklearn import preprocessing\n",
    "from sklearn.discriminant_analysis import LinearDiscriminantAnalysis, QuadraticDiscriminantAnalysis\n",
    "from sklearn.neighbors import KNeighborsClassifier\n",
    "from sklearn.decomposition import PCA\n",
    "\n",
    "# Evaluation Metric\n",
    "from sklearn.metrics import roc_curve, auc\n",
    "from sklearn.metrics import accuracy_score, f1_score, precision_score, recall_score, classification_report, confusion_matrix\n",
    "from sklearn.metrics import mean_squared_error\n",
    "\n",
    "# Regularization\n",
    "from sklearn.linear_model import Ridge, RidgeCV, Lasso, LassoCV\n",
    "\n",
    "# Resampling\n",
    "from sklearn.model_selection import train_test_split, LeaveOneOut, KFold, cross_val_score\n",
    "from sklearn.model_selection import GridSearchCV\n",
    "from sklearn.preprocessing import PolynomialFeatures"
   ]
  },
  {
   "cell_type": "code",
   "execution_count": 2,
   "metadata": {
    "collapsed": true
   },
   "outputs": [],
   "source": [
    "import matplotlib.pyplot as plt\n",
    "from mpl_toolkits.mplot3d import axes3d\n",
    "import seaborn as sns\n",
    "from matplotlib import gridspec\n",
    "\n",
    "%matplotlib inline\n",
    "plt.style.use('smandry')"
   ]
  },
  {
   "cell_type": "code",
   "execution_count": 4,
   "metadata": {
    "collapsed": true
   },
   "outputs": [],
   "source": [
    "# Extend linear_model.LinearRegression to calculate stats\n",
    "class LinearRegression(linear_model.LinearRegression):\n",
    "    def __init__(self,*args,**kwargs):\n",
    "        \"\"\"\n",
    "        Linear Regression with Stats output\n",
    "        \"\"\"\n",
    "        super(LinearRegression,self).__init__(*args,**kwargs)\n",
    "\n",
    "    def fit_stats(self,X,y):\n",
    "        \"\"\" \n",
    "        X is a dataFrame\n",
    "        \n",
    "        \"\"\"\n",
    "        self.fit(X,y)\n",
    "        self.params = np.append(self.intercept_,self.coef_)\n",
    "        predictions = self.predict(X)\n",
    "        newX = pd.DataFrame({\"Constant\":np.ones(len(X))}).join(pd.DataFrame(X.reset_index(drop=True))) \n",
    "        n_obs = len(newX)\n",
    "        n_pred = len(newX.columns)-1        \n",
    "        RSS = sum((y-predictions)**2)\n",
    "        mean_y = y.mean()\n",
    "        TSS = sum((y - mean_y)**2)\n",
    "        MSE = (RSS)/float(n_obs-n_pred)\n",
    "        self.MSE = MSE\n",
    "        variance = MSE*(np.linalg.inv(np.dot(newX.T,newX)).diagonal())\n",
    "        self.StdErr = np.sqrt(variance)\n",
    "        self.tValues = self.params/self.StdErr\n",
    "        self.pValues =[2*(1 - sc.stats.t.cdf(np.abs(i),(len(newX)-1))) for i in self.tValues]\n",
    "        self.confInt = [self.params-1.95996398*self.StdErr, self.params+1.95996398*self.StdErr]\n",
    "        self.rsquare = 1.0 - (RSS/TSS)\n",
    "        self.rsquare_adj = 1.0 -((RSS/TSS)*((n_obs-1)/float(n_obs-n_pred-1)))\n",
    "        \n",
    "        myDF3 = pd.DataFrame(index=newX.columns)\n",
    "        myDF3[\"Coefs\"],myDF3[\"StdErr\"],myDF3[\"tValues\"],myDF3[\"pValue\"] = [self.params,self.StdErr,self.tValues,self.pValues]\n",
    "        myDF3[\"[0.025\"] = self.confInt[0]\n",
    "        myDF3[\"0.0975]\"] = self.confInt[1]\n",
    "        self.results = myDF3\n",
    "\n",
    "class var_stat(object):\n",
    "    def __init__(self, model, X, y, fit=False, linear=True, cols=None):\n",
    "        if fit:\n",
    "            model.fit(X,y)\n",
    "        self.model = model\n",
    "        n_obs = X.shape[0]\n",
    "        n_pred = X.shape[1]     \n",
    "        pred = model.predict(X)\n",
    "        if isinstance(X, pd.DataFrame):\n",
    "            newX = np.hstack((np.ones(n_obs).reshape(-1,1), X.values))\n",
    "            cols = ['Intercept']+list(X.columns)\n",
    "        else:\n",
    "            newX = np.hstack((np.ones(n_obs).reshape(-1,1), X))\n",
    "        self.RSS = self.sum_square(y, pred)\n",
    "        self.TSS = self.sum_square(y, y.mean())\n",
    "        self.MSE = self.RSS/float(n_obs-n_pred)\n",
    "        self.rsquare = 1.0 - (self.RSS/self.TSS)\n",
    "        self.rsquare_adj = 1.0 -((self.RSS/self.TSS)*((n_obs-1)/float(n_obs-n_pred-1)))\n",
    "        if linear:\n",
    "            self.params = np.append(model.intercept_,model.coef_)\n",
    "            variance = self.MSE * (np.linalg.pinv(np.dot(newX.T,newX)).diagonal())\n",
    "            self.StdErr = np.sqrt(variance)\n",
    "            self.tValues = self.params/self.StdErr\n",
    "            self.pValues =[2*(1 - sc.stats.t.cdf(np.abs(i),(n_obs-1))) for i in self.tValues]\n",
    "            self.confInt = [self.params-1.95996398*self.StdErr, self.params+1.95996398*self.StdErr]\n",
    "            mydf = pd.DataFrame(index=cols)\n",
    "            mydf[\"Coefs\"],mydf[\"StdErr\"],mydf[\"tValues\"],mydf[\"pValue\"] = [self.params,self.StdErr,self.tValues,self.pValues]\n",
    "            mydf[\"[0.025\"] = self.confInt[0]\n",
    "            mydf[\"0.975]\"] = self.confInt[1]\n",
    "            self.results = mydf              \n",
    "    def sum_square(self,y,ypred):\n",
    "        return sum((y-ypred)**2)"
   ]
  },
  {
   "cell_type": "markdown",
   "metadata": {},
   "source": [
    "## Loading Wage data"
   ]
  },
  {
   "cell_type": "code",
   "execution_count": 5,
   "metadata": {
    "collapsed": false
   },
   "outputs": [],
   "source": [
    "Wage = pd.read_csv('Data/WageR.csv')"
   ]
  },
  {
   "cell_type": "code",
   "execution_count": 6,
   "metadata": {
    "collapsed": false
   },
   "outputs": [
    {
     "data": {
      "text/html": [
       "<div>\n",
       "<style>\n",
       "    .dataframe thead tr:only-child th {\n",
       "        text-align: right;\n",
       "    }\n",
       "\n",
       "    .dataframe thead th {\n",
       "        text-align: left;\n",
       "    }\n",
       "\n",
       "    .dataframe tbody tr th {\n",
       "        vertical-align: top;\n",
       "    }\n",
       "</style>\n",
       "<table border=\"1\" class=\"dataframe\">\n",
       "  <thead>\n",
       "    <tr style=\"text-align: right;\">\n",
       "      <th></th>\n",
       "      <th>Unnamed: 0</th>\n",
       "      <th>year</th>\n",
       "      <th>age</th>\n",
       "      <th>maritl</th>\n",
       "      <th>race</th>\n",
       "      <th>education</th>\n",
       "      <th>region</th>\n",
       "      <th>jobclass</th>\n",
       "      <th>health</th>\n",
       "      <th>health_ins</th>\n",
       "      <th>logwage</th>\n",
       "      <th>wage</th>\n",
       "    </tr>\n",
       "  </thead>\n",
       "  <tbody>\n",
       "    <tr>\n",
       "      <th>0</th>\n",
       "      <td>231655</td>\n",
       "      <td>2006</td>\n",
       "      <td>18</td>\n",
       "      <td>1. Never Married</td>\n",
       "      <td>1. White</td>\n",
       "      <td>1. &lt; HS Grad</td>\n",
       "      <td>2. Middle Atlantic</td>\n",
       "      <td>1. Industrial</td>\n",
       "      <td>1. &lt;=Good</td>\n",
       "      <td>2. No</td>\n",
       "      <td>4.318063</td>\n",
       "      <td>75.043154</td>\n",
       "    </tr>\n",
       "    <tr>\n",
       "      <th>1</th>\n",
       "      <td>86582</td>\n",
       "      <td>2004</td>\n",
       "      <td>24</td>\n",
       "      <td>1. Never Married</td>\n",
       "      <td>1. White</td>\n",
       "      <td>4. College Grad</td>\n",
       "      <td>2. Middle Atlantic</td>\n",
       "      <td>2. Information</td>\n",
       "      <td>2. &gt;=Very Good</td>\n",
       "      <td>2. No</td>\n",
       "      <td>4.255273</td>\n",
       "      <td>70.476020</td>\n",
       "    </tr>\n",
       "  </tbody>\n",
       "</table>\n",
       "</div>"
      ],
      "text/plain": [
       "   Unnamed: 0  year  age            maritl      race        education  \\\n",
       "0      231655  2006   18  1. Never Married  1. White     1. < HS Grad   \n",
       "1       86582  2004   24  1. Never Married  1. White  4. College Grad   \n",
       "\n",
       "               region        jobclass          health health_ins   logwage  \\\n",
       "0  2. Middle Atlantic   1. Industrial       1. <=Good      2. No  4.318063   \n",
       "1  2. Middle Atlantic  2. Information  2. >=Very Good      2. No  4.255273   \n",
       "\n",
       "        wage  \n",
       "0  75.043154  \n",
       "1  70.476020  "
      ]
     },
     "execution_count": 6,
     "metadata": {},
     "output_type": "execute_result"
    }
   ],
   "source": [
    "Wage.head(2)"
   ]
  },
  {
   "cell_type": "code",
   "execution_count": 337,
   "metadata": {
    "collapsed": false
   },
   "outputs": [],
   "source": [
    "def eval_poly(X,coef):\n",
    "    poly = PolynomialFeatures(degree=len(coef)-1)\n",
    "    X_ = poly.fit_transform(X.reshape(-1,1))\n",
    "    return np.multiply(X_,coef).sum(axis=1)"
   ]
  },
  {
   "cell_type": "code",
   "execution_count": 7,
   "metadata": {
    "collapsed": false
   },
   "outputs": [],
   "source": [
    "class var_stat(object):\n",
    "    def __init__(self, model, X, y, fit=False, linear=True, cols=None):\n",
    "        if fit:\n",
    "            model.fit(X,y)\n",
    "        self.model = model\n",
    "        n_obs = X.shape[0]\n",
    "        n_pred = X.shape[1]\n",
    "        self.n_obs = n_obs\n",
    "        self.n_pred = n_pred\n",
    "        self.dof = n_obs - np.linalg.matrix_rank(X)\n",
    "        pred = model.predict(X)\n",
    "        if isinstance(X, pd.DataFrame):\n",
    "            newX = np.hstack((np.ones(n_obs).reshape(-1,1), X.values))\n",
    "            cols = ['Intercept']+list(X.columns)\n",
    "        else:\n",
    "            newX = np.hstack((np.ones(n_obs).reshape(-1,1), X))\n",
    "        self.copy_X = newX\n",
    "        self.RSS = self.sum_square(y, pred)\n",
    "        self.TSS = self.sum_square(y, y.mean())\n",
    "        self.MSE = self.RSS/float(n_obs-n_pred)\n",
    "        self.rsquare = 1.0 - (self.RSS/self.TSS)\n",
    "        self.rsquare_adj = 1.0 -((self.RSS/self.TSS)*((n_obs-1)/float(n_obs-n_pred-1)))\n",
    "        if linear:\n",
    "            self.params = np.append(model.intercept_,model.coef_)\n",
    "            self.cov_params = self.MSE * np.linalg.pinv(np.dot(newX.T,newX))\n",
    "            variance = self.cov_params.diagonal() \n",
    "            self.StdErr = np.sqrt(variance)\n",
    "            self.tValues = self.params/self.StdErr\n",
    "            self.pValues =[2*(1 - sc.stats.t.cdf(np.abs(i),(self.dof))) for i in self.tValues]\n",
    "            self.confInt = [self.params-1.95996398*self.StdErr, self.params+1.95996398*self.StdErr]\n",
    "            mydf = pd.DataFrame(index=cols)\n",
    "            mydf[\"Coefs\"],mydf[\"StdErr\"],mydf[\"tValues\"],mydf[\"pValue\"] = [self.params,self.StdErr,self.tValues,self.pValues]\n",
    "            mydf[\"[0.025\"] = self.confInt[0]\n",
    "            mydf[\"0.0975]\"] = self.confInt[1]\n",
    "            self.results = mydf\n",
    "    def sum_square(self, y, ypred):\n",
    "        return sum((y-ypred)**2)\n",
    "\n",
    "    def confidence_band(self, xnew, alpha=0.05):\n",
    "        pred = self.model.predict(xnew[:,1:])\n",
    "        predvar = self.MSE + (xnew * np.dot(self.cov_params, xnew.T).T).sum(1)\n",
    "        predstd = np.sqrt(predvar)\n",
    "        tppf = sc.stats.t.isf(alpha/2., self.dof)\n",
    "        interval_u = pred + tppf * predstd\n",
    "        interval_l = pred - tppf * predstd\n",
    "        return predstd, interval_l, interval_u\n",
    "    \n",
    "    def confidence_mean(self, xnew, alpha=0.05):\n",
    "        X0 = self.copy_X\n",
    "        cov_matrix = np.linalg.pinv(np.dot(X0.T, X0))\n",
    "        last_term = np.dot(cov_matrix, xnew.T)\n",
    "        #pred_mean_se = np.sqrt(((xnew * np.dot(self.cov_params, xnew.T).T).sum(1)))\n",
    "        pred_mean_se = np.sqrt(self.MSE * (xnew * last_term.T).sum(1))\n",
    "        tppf = sc.stats.t.isf(alpha/2.0, self.dof)\n",
    "        mean_u = pred + tppf * pred_mean_se\n",
    "        mean_l = pred - tppf * pred_mean_se\n",
    "        return pred_mean_se, mean_u, mean_l\n",
    "        # http://www.stats.uwo.ca/faculty/braun/ss3859/notes/Chapter4/ch4.pdf\n",
    "        #sx = (xnew - mean_x),2)\n",
    "        #confs = t * self.MSE*np.sqrt(1.0/n + /((np.sum(np.power(x,2)))-n*(np.power(mean_x,2)))))\n"
   ]
  },
  {
   "cell_type": "code",
   "execution_count": 221,
   "metadata": {
    "collapsed": false
   },
   "outputs": [],
   "source": [
    "# from sklearn.preprocessing import PolynomialFeatures\n",
    "poly = PolynomialFeatures(degree=4)\n",
    "X_poly = poly.fit_transform(Wage[['age']])\n",
    "age_grid = np.linspace(Wage.age.min(), Wage.age.max(),150) \n",
    "age_grid_poly = poly.fit_transform(age_grid.reshape(-1,1))\n",
    "\n",
    "reg = linear_model.LinearRegression()\n",
    "reg.fit(X_poly, Wage.wage)\n",
    "pred = reg.predict(age_grid_poly)\n",
    "stats = var_stat(reg,X_poly[:,1:], Wage.wage,  fit=True)\n",
    "meanse, mean_u, mean_l = stats.confidence_mean(age_grid_poly)\n",
    "\n",
    "# Logistic regression : Use larger C to turn off regularisation\n",
    "wage_binary = (Wage.wage > 250).map({False:0, True:1}).as_matrix()\n",
    "logit_model = linear_model.LogisticRegression(C=1.e9, solver='newton-cg', max_iter=10000)\n",
    "\n",
    "# MinMaxscaling to get the same result as the book\n",
    "scaler= preprocessing.MinMaxScaler()\n",
    "age_scale = scaler.fit_transform(X_poly[:,1:])\n",
    "logit_model.fit(age_scale, wage_binary)\n",
    "pred_bin_sk = logit_model.predict_proba(scaler.fit_transform(age_grid_poly[:,1:]))\n",
    "\n",
    "# for comparison result: Use statmodels  \n",
    "clf = sm.GLM(wage_binary, X_poly , family=sm.families.Binomial(sm.families.links.logit), alpha=0)\n",
    "ress = clf.fit()\n",
    "pred_bin = ress.predict(age_grid_poly)"
   ]
  },
  {
   "cell_type": "markdown",
   "metadata": {},
   "source": [
    "The author of ISL use the formula in python\n",
    "```python\n",
    "proba = np.exp(np.dot(x, params)) / (1 + np.exp(np.dot(x, params)))\n",
    "```\n",
    "and calculate confidence interval for the linear part, and then transform with the logit function."
   ]
  },
  {
   "cell_type": "code",
   "execution_count": 655,
   "metadata": {
    "collapsed": true
   },
   "outputs": [],
   "source": [
    "# Logistic regression standard error : https://stats.stackexchange.com/questions/89484/how-to-compute-the-standard-errors-of-a-logistic-regressions-coefficients/89520\n",
    "# confidence interval: https://stackoverflow.com/questions/47414842/confidence-interval-of-probability-prediction-from-logistic-regression-statsmode\n",
    "def std_err(X, proba, params, alpha=0.05):\n",
    "    V = np.matrix(np.zeros(shape = (X.shape[0], X.shape[0])))\n",
    "    np.fill_diagonal(V, np.multiply(1-proba, proba))\n",
    "    # Covariance matrix\n",
    "    covLogit = np.linalg.inv(np.dot(X_poly.T, V).dot(X_poly))\n",
    "    # Standard errors\n",
    "    stderr = np.sqrt(np.diag(covLogit))\n",
    "    gradient = (proba * (1 - proba) * X.T).T\n",
    "    std_errors = np.sqrt(np.multiply((np.dot(gradient, covLogit)) , gradient).sum(1))\n",
    "    c = sc.stats.t.isf(alpha/2.0, X.shape[0] - X.shape[1])\n",
    "    upper = np.maximum(0, np.minimum(1, proba + std_errors.A1 * c))\n",
    "    lower = np.maximum(0, np.minimum(1, proba - std_errors.A1 * c))\n",
    "    \n",
    "    # in the ISLR book use result\n",
    "    lin_result = np.dot(X, params)\n",
    "    std_errors_xb = np.sqrt(np.multiply((np.dot(X, covLogit)) , X).sum(1))\n",
    "    upper_xb = lin_result + (c * std_errors_xb.A1)\n",
    "    lower_xb = lin_result - (c * std_errors_xb.A1)\n",
    "    # plug result to the probability equations\n",
    "    upper_book = np.exp(upper_xb) / (1.0 + np.exp(upper_xb))\n",
    "    lower_book = np.exp(lower_xb) / (1.0 + np.exp(lower_xb))\n",
    "    return stderr, upper, lower, upper_book, lower_book\n"
   ]
  },
  {
   "cell_type": "code",
   "execution_count": 658,
   "metadata": {
    "collapsed": false
   },
   "outputs": [
    {
     "data": {
      "image/png": "[encoded data removed]",
      "text/plain": [
       "<matplotlib.figure.Figure at 0x1cdc018610>"
      ]
     },
     "metadata": {},
     "output_type": "display_data"
    },
    {
     "data": {
      "image/png": "[encoded data removed]",
      "text/plain": [
       "<matplotlib.figure.Figure at 0x1c94e7f390>"
      ]
     },
     "metadata": {},
     "output_type": "display_data"
    }
   ],
   "source": [
    "# Run confidence band\n",
    "proba = ress.predict(X_poly)\n",
    "stderr, upper, lower, upper_book, lower_book  = std_err(X_poly, proba, ress.params)\n",
    "# Plot\n",
    "fig,(ax1,ax2)=plt.subplots(ncols=2,figsize=(12,5))\n",
    "ax1.scatter(Wage.age,Wage.wage, Facecolors='w', edgecolors='Grey')\n",
    "ax1.plot(age_grid, pred, color='r')\n",
    "ax1.plot(age_grid, mean_l)\n",
    "ax1.plot(age_grid, mean_u)\n",
    "ax1.set_xlabel('Age')\n",
    "ax1.set_ylabel('Wage')\n",
    "\n",
    "ax2.plot(age_grid, pred_bin)\n",
    "ax2.plot(age_grid, pred_bin_sk[:,1], color='r', ls='--')\n",
    "indsort = Wage.age.argsort()\n",
    "ax2.plot(Wage.age[indsort], upper[indsort])\n",
    "ax2.plot(Wage.age[indsort], lower[indsort])\n",
    "ax2.set_xlabel('Age')\n",
    "ax2.set_ylabel('Pr( wage>250 | age)')\n",
    "plt.show()\n",
    "\n",
    "# The plot in the book : Figure 7.1\n",
    "\n",
    "fig,(ax3,ax4)=plt.subplots(ncols=2,figsize=(12,5))\n",
    "ax3.scatter(Wage.age,Wage.wage, Facecolors='w', edgecolors='Grey')\n",
    "ax3.plot(age_grid, pred, color='r')\n",
    "ax3.plot(age_grid, mean_l)\n",
    "ax3.plot(age_grid, mean_u)\n",
    "ax3.set_xlabel('Age')\n",
    "ax3.set_ylabel('Wage')\n",
    "ax4.plot(age_grid, pred_bin)\n",
    "ax4.plot(age_grid, pred_bin_sk[:,1], color='r', ls='--')\n",
    "indsort = Wage.age.argsort()\n",
    "ax4.plot(Wage.age[indsort], upper_book[indsort])\n",
    "ax4.plot(Wage.age[indsort], lower_book[indsort])\n",
    "ax4.set_xlabel('Age')\n",
    "ax4.set_ylabel('Pr( wage>250 | age)');\n",
    "ax4.set_ylim([0,0.2])\n",
    "plt.show()\n"
   ]
  },
  {
   "cell_type": "code",
   "execution_count": null,
   "metadata": {
    "collapsed": true
   },
   "outputs": [],
   "source": []
  },
  {
   "cell_type": "code",
   "execution_count": null,
   "metadata": {
    "collapsed": true
   },
   "outputs": [],
   "source": []
  },
  {
   "cell_type": "code",
   "execution_count": null,
   "metadata": {
    "collapsed": true
   },
   "outputs": [],
   "source": []
  },
  {
   "cell_type": "code",
   "execution_count": null,
   "metadata": {
    "collapsed": true
   },
   "outputs": [],
   "source": []
  },
  {
   "cell_type": "code",
   "execution_count": null,
   "metadata": {
    "collapsed": true
   },
   "outputs": [],
   "source": []
  },
  {
   "cell_type": "code",
   "execution_count": null,
   "metadata": {
    "collapsed": true
   },
   "outputs": [],
   "source": []
  },
  {
   "cell_type": "code",
   "execution_count": null,
   "metadata": {
    "collapsed": true
   },
   "outputs": [],
   "source": []
  },
  {
   "cell_type": "code",
   "execution_count": null,
   "metadata": {
    "collapsed": true
   },
   "outputs": [],
   "source": []
  },
  {
   "cell_type": "code",
   "execution_count": null,
   "metadata": {
    "collapsed": true
   },
   "outputs": [],
   "source": []
  },
  {
   "cell_type": "code",
   "execution_count": null,
   "metadata": {
    "collapsed": true
   },
   "outputs": [],
   "source": []
  },
  {
   "cell_type": "code",
   "execution_count": null,
   "metadata": {
    "collapsed": true
   },
   "outputs": [],
   "source": []
  },
  {
   "cell_type": "code",
   "execution_count": null,
   "metadata": {
    "collapsed": true
   },
   "outputs": [],
   "source": []
  },
  {
   "cell_type": "code",
   "execution_count": 214,
   "metadata": {
    "collapsed": false
   },
   "outputs": [
    {
     "data": {
      "text/html": [
       "<table class=\"simpletable\">\n",
       "<tr>\n",
       "    <td></td>       <th>coef</th>     <th>std err</th>      <th>z</th>      <th>P>|z|</th>  <th>[0.025</th>    <th>0.975]</th>  \n",
       "</tr>\n",
       "<tr>\n",
       "  <th>const</th> <td> -109.5530</td> <td>   47.655</td> <td>   -2.299</td> <td> 0.022</td> <td> -202.956</td> <td>  -16.150</td>\n",
       "</tr>\n",
       "<tr>\n",
       "  <th>x1</th>    <td>    8.9950</td> <td>    4.187</td> <td>    2.148</td> <td> 0.032</td> <td>    0.789</td> <td>   17.201</td>\n",
       "</tr>\n",
       "<tr>\n",
       "  <th>x2</th>    <td>   -0.2816</td> <td>    0.135</td> <td>   -2.081</td> <td> 0.037</td> <td>   -0.547</td> <td>   -0.016</td>\n",
       "</tr>\n",
       "<tr>\n",
       "  <th>x3</th>    <td>    0.0039</td> <td>    0.002</td> <td>    2.022</td> <td> 0.043</td> <td>    0.000</td> <td>    0.008</td>\n",
       "</tr>\n",
       "<tr>\n",
       "  <th>x4</th>    <td>-1.949e-05</td> <td> 9.91e-06</td> <td>   -1.966</td> <td> 0.049</td> <td>-3.89e-05</td> <td>-6.41e-08</td>\n",
       "</tr>\n",
       "</table>"
      ],
      "text/plain": [
       "<class 'statsmodels.iolib.table.SimpleTable'>"
      ]
     },
     "execution_count": 214,
     "metadata": {},
     "output_type": "execute_result"
    }
   ],
   "source": [
    "ress.summary().tables[1]"
   ]
  },
  {
   "cell_type": "code",
   "execution_count": 625,
   "metadata": {
    "collapsed": false
   },
   "outputs": [],
   "source": [
    "# Logistic regression standard error : https://stats.stackexchange.com/questions/89484/how-to-compute-the-standard-errors-of-a-logistic-regressions-coefficients/89520\n",
    "# confidence interval: https://stackoverflow.com/questions/47414842/confidence-interval-of-probability-prediction-from-logistic-regression-statsmode\n",
    "def std_err(model, X, alpha=0.05):\n",
    "    proba = model.predict(X)\n",
    "    V = np.matrix(np.zeros(shape = (X.shape[0], X.shape[0])))\n",
    "    np.fill_diagonal(V, np.multiply(1-proba, proba))\n",
    "    # Covariance matrix\n",
    "    covLogit = np.linalg.inv(np.dot(X_poly.T, V).dot(X_poly))\n",
    "    # Standard errors\n",
    "    stderr = np.sqrt(np.diag(covLogit))\n",
    "    gradient = (proba * (1 - proba) * X.T).T\n",
    "    std_errors = np.sqrt(np.multiply((np.dot(gradient, covLogit)) , gradient).sum(1))\n",
    "    c = sc.stats.t.isf(alpha/2.0, X.shape[0] - X.shape[1])\n",
    "    upper = np.maximum(0, np.minimum(1, proba + std_errors.A1 * c))\n",
    "    lower = np.maximum(0, np.minimum(1, proba - std_errors.A1 * c))\n",
    "    return stderr, upper, lower\n"
   ]
  },
  {
   "cell_type": "code",
   "execution_count": 115,
   "metadata": {
    "collapsed": false
   },
   "outputs": [],
   "source": [
    "regf = LinearRegression()\n",
    "regf.fit_stats(Wage[['age','year']],Wage.wage)"
   ]
  },
  {
   "cell_type": "code",
   "execution_count": 353,
   "metadata": {
    "collapsed": false
   },
   "outputs": [],
   "source": [
    "res = sm.OLS(Wage.wage, X_poly).fit()\n",
    "from statsmodels.stats.outliers_influence import summary_table\n",
    "st, data, ss2 = summary_table(res, alpha=0.05)"
   ]
  },
  {
   "cell_type": "code",
   "execution_count": 446,
   "metadata": {
    "collapsed": false
   },
   "outputs": [
    {
     "data": {
      "text/html": [
       "<table class=\"simpletable\">\n",
       "<caption>OLS Regression Results</caption>\n",
       "<tr>\n",
       "  <th>Dep. Variable:</th>          <td>wage</td>       <th>  R-squared:         </th> <td>   0.086</td> \n",
       "</tr>\n",
       "<tr>\n",
       "  <th>Model:</th>                   <td>OLS</td>       <th>  Adj. R-squared:    </th> <td>   0.085</td> \n",
       "</tr>\n",
       "<tr>\n",
       "  <th>Method:</th>             <td>Least Squares</td>  <th>  F-statistic:       </th> <td>   70.69</td> \n",
       "</tr>\n",
       "<tr>\n",
       "  <th>Date:</th>             <td>Fri, 04 May 2018</td> <th>  Prob (F-statistic):</th> <td>2.77e-57</td> \n",
       "</tr>\n",
       "<tr>\n",
       "  <th>Time:</th>                 <td>16:11:22</td>     <th>  Log-Likelihood:    </th> <td> -15315.</td> \n",
       "</tr>\n",
       "<tr>\n",
       "  <th>No. Observations:</th>      <td>  3000</td>      <th>  AIC:               </th> <td>3.064e+04</td>\n",
       "</tr>\n",
       "<tr>\n",
       "  <th>Df Residuals:</th>          <td>  2995</td>      <th>  BIC:               </th> <td>3.067e+04</td>\n",
       "</tr>\n",
       "<tr>\n",
       "  <th>Df Model:</th>              <td>     4</td>      <th>                     </th>     <td> </td>    \n",
       "</tr>\n",
       "<tr>\n",
       "  <th>Covariance Type:</th>      <td>nonrobust</td>    <th>                     </th>     <td> </td>    \n",
       "</tr>\n",
       "</table>\n",
       "<table class=\"simpletable\">\n",
       "<tr>\n",
       "    <td></td>       <th>coef</th>     <th>std err</th>      <th>t</th>      <th>P>|t|</th>  <th>[0.025</th>    <th>0.975]</th>  \n",
       "</tr>\n",
       "<tr>\n",
       "  <th>const</th> <td> -184.1542</td> <td>   60.040</td> <td>   -3.067</td> <td> 0.002</td> <td> -301.879</td> <td>  -66.430</td>\n",
       "</tr>\n",
       "<tr>\n",
       "  <th>x1</th>    <td>   21.2455</td> <td>    5.887</td> <td>    3.609</td> <td> 0.000</td> <td>    9.703</td> <td>   32.788</td>\n",
       "</tr>\n",
       "<tr>\n",
       "  <th>x2</th>    <td>   -0.5639</td> <td>    0.206</td> <td>   -2.736</td> <td> 0.006</td> <td>   -0.968</td> <td>   -0.160</td>\n",
       "</tr>\n",
       "<tr>\n",
       "  <th>x3</th>    <td>    0.0068</td> <td>    0.003</td> <td>    2.221</td> <td> 0.026</td> <td>    0.001</td> <td>    0.013</td>\n",
       "</tr>\n",
       "<tr>\n",
       "  <th>x4</th>    <td>-3.204e-05</td> <td> 1.64e-05</td> <td>   -1.952</td> <td> 0.051</td> <td>-6.42e-05</td> <td> 1.45e-07</td>\n",
       "</tr>\n",
       "</table>\n",
       "<table class=\"simpletable\">\n",
       "<tr>\n",
       "  <th>Omnibus:</th>       <td>1097.594</td> <th>  Durbin-Watson:     </th> <td>   1.960</td>\n",
       "</tr>\n",
       "<tr>\n",
       "  <th>Prob(Omnibus):</th>  <td> 0.000</td>  <th>  Jarque-Bera (JB):  </th> <td>4965.521</td>\n",
       "</tr>\n",
       "<tr>\n",
       "  <th>Skew:</th>           <td> 1.722</td>  <th>  Prob(JB):          </th> <td>    0.00</td>\n",
       "</tr>\n",
       "<tr>\n",
       "  <th>Kurtosis:</th>       <td> 8.279</td>  <th>  Cond. No.          </th> <td>5.67e+08</td>\n",
       "</tr>\n",
       "</table>"
      ],
      "text/plain": [
       "<class 'statsmodels.iolib.summary.Summary'>\n",
       "\"\"\"\n",
       "                            OLS Regression Results                            \n",
       "==============================================================================\n",
       "Dep. Variable:                   wage   R-squared:                       0.086\n",
       "Model:                            OLS   Adj. R-squared:                  0.085\n",
       "Method:                 Least Squares   F-statistic:                     70.69\n",
       "Date:                Fri, 04 May 2018   Prob (F-statistic):           2.77e-57\n",
       "Time:                        16:11:22   Log-Likelihood:                -15315.\n",
       "No. Observations:                3000   AIC:                         3.064e+04\n",
       "Df Residuals:                    2995   BIC:                         3.067e+04\n",
       "Df Model:                           4                                         \n",
       "Covariance Type:            nonrobust                                         \n",
       "==============================================================================\n",
       "                 coef    std err          t      P>|t|      [0.025      0.975]\n",
       "------------------------------------------------------------------------------\n",
       "const       -184.1542     60.040     -3.067      0.002    -301.879     -66.430\n",
       "x1            21.2455      5.887      3.609      0.000       9.703      32.788\n",
       "x2            -0.5639      0.206     -2.736      0.006      -0.968      -0.160\n",
       "x3             0.0068      0.003      2.221      0.026       0.001       0.013\n",
       "x4         -3.204e-05   1.64e-05     -1.952      0.051   -6.42e-05    1.45e-07\n",
       "==============================================================================\n",
       "Omnibus:                     1097.594   Durbin-Watson:                   1.960\n",
       "Prob(Omnibus):                  0.000   Jarque-Bera (JB):             4965.521\n",
       "Skew:                           1.722   Prob(JB):                         0.00\n",
       "Kurtosis:                       8.279   Cond. No.                     5.67e+08\n",
       "==============================================================================\n",
       "\n",
       "Warnings:\n",
       "[1] Standard Errors assume that the covariance matrix of the errors is correctly specified.\n",
       "[2] The condition number is large, 5.67e+08. This might indicate that there are\n",
       "strong multicollinearity or other numerical problems.\n",
       "\"\"\""
      ]
     },
     "execution_count": 446,
     "metadata": {},
     "output_type": "execute_result"
    }
   ],
   "source": [
    "res.summary()"
   ]
  },
  {
   "cell_type": "code",
   "execution_count": 438,
   "metadata": {
    "collapsed": false
   },
   "outputs": [
    {
     "data": {
      "text/html": [
       "<div>\n",
       "<style>\n",
       "    .dataframe thead tr:only-child th {\n",
       "        text-align: right;\n",
       "    }\n",
       "\n",
       "    .dataframe thead th {\n",
       "        text-align: left;\n",
       "    }\n",
       "\n",
       "    .dataframe tbody tr th {\n",
       "        vertical-align: top;\n",
       "    }\n",
       "</style>\n",
       "<table border=\"1\" class=\"dataframe\">\n",
       "  <thead>\n",
       "    <tr style=\"text-align: right;\">\n",
       "      <th></th>\n",
       "      <th>const</th>\n",
       "      <th>x1</th>\n",
       "      <th>x2</th>\n",
       "      <th>x3</th>\n",
       "      <th>x4</th>\n",
       "    </tr>\n",
       "  </thead>\n",
       "  <tbody>\n",
       "    <tr>\n",
       "      <th>const</th>\n",
       "      <td>3604.846892</td>\n",
       "      <td>-351.223017</td>\n",
       "      <td>12.102697</td>\n",
       "      <td>-1.759690e-01</td>\n",
       "      <td>9.158120e-04</td>\n",
       "    </tr>\n",
       "    <tr>\n",
       "      <th>x1</th>\n",
       "      <td>-351.223017</td>\n",
       "      <td>34.653805</td>\n",
       "      <td>-1.207207</td>\n",
       "      <td>1.771806e-02</td>\n",
       "      <td>-9.296448e-05</td>\n",
       "    </tr>\n",
       "    <tr>\n",
       "      <th>x2</th>\n",
       "      <td>12.102697</td>\n",
       "      <td>-1.207207</td>\n",
       "      <td>0.042481</td>\n",
       "      <td>-6.291981e-04</td>\n",
       "      <td>3.328488e-06</td>\n",
       "    </tr>\n",
       "    <tr>\n",
       "      <th>x3</th>\n",
       "      <td>-0.175969</td>\n",
       "      <td>0.017718</td>\n",
       "      <td>-0.000629</td>\n",
       "      <td>9.399934e-06</td>\n",
       "      <td>-5.012724e-08</td>\n",
       "    </tr>\n",
       "    <tr>\n",
       "      <th>x4</th>\n",
       "      <td>0.000916</td>\n",
       "      <td>-0.000093</td>\n",
       "      <td>0.000003</td>\n",
       "      <td>-5.012724e-08</td>\n",
       "      <td>2.694059e-10</td>\n",
       "    </tr>\n",
       "  </tbody>\n",
       "</table>\n",
       "</div>"
      ],
      "text/plain": [
       "             const          x1         x2            x3            x4\n",
       "const  3604.846892 -351.223017  12.102697 -1.759690e-01  9.158120e-04\n",
       "x1     -351.223017   34.653805  -1.207207  1.771806e-02 -9.296448e-05\n",
       "x2       12.102697   -1.207207   0.042481 -6.291981e-04  3.328488e-06\n",
       "x3       -0.175969    0.017718  -0.000629  9.399934e-06 -5.012724e-08\n",
       "x4        0.000916   -0.000093   0.000003 -5.012724e-08  2.694059e-10"
      ]
     },
     "execution_count": 438,
     "metadata": {},
     "output_type": "execute_result"
    }
   ],
   "source": [
    "res.cov_params()"
   ]
  },
  {
   "cell_type": "code",
   "execution_count": 451,
   "metadata": {
    "collapsed": false
   },
   "outputs": [
    {
     "data": {
      "text/html": [
       "<div>\n",
       "<style>\n",
       "    .dataframe thead tr:only-child th {\n",
       "        text-align: right;\n",
       "    }\n",
       "\n",
       "    .dataframe thead th {\n",
       "        text-align: left;\n",
       "    }\n",
       "\n",
       "    .dataframe tbody tr th {\n",
       "        vertical-align: top;\n",
       "    }\n",
       "</style>\n",
       "<table border=\"1\" class=\"dataframe\">\n",
       "  <thead>\n",
       "    <tr style=\"text-align: right;\">\n",
       "      <th></th>\n",
       "      <th>0</th>\n",
       "      <th>1</th>\n",
       "      <th>2</th>\n",
       "      <th>3</th>\n",
       "      <th>4</th>\n",
       "    </tr>\n",
       "  </thead>\n",
       "  <tbody>\n",
       "    <tr>\n",
       "      <th>0</th>\n",
       "      <td>3604.846892</td>\n",
       "      <td>-351.223017</td>\n",
       "      <td>12.102697</td>\n",
       "      <td>-1.759690e-01</td>\n",
       "      <td>9.158120e-04</td>\n",
       "    </tr>\n",
       "    <tr>\n",
       "      <th>1</th>\n",
       "      <td>-351.223017</td>\n",
       "      <td>34.653805</td>\n",
       "      <td>-1.207207</td>\n",
       "      <td>1.771806e-02</td>\n",
       "      <td>-9.296448e-05</td>\n",
       "    </tr>\n",
       "    <tr>\n",
       "      <th>2</th>\n",
       "      <td>12.102697</td>\n",
       "      <td>-1.207207</td>\n",
       "      <td>0.042481</td>\n",
       "      <td>-6.291981e-04</td>\n",
       "      <td>3.328488e-06</td>\n",
       "    </tr>\n",
       "    <tr>\n",
       "      <th>3</th>\n",
       "      <td>-0.175969</td>\n",
       "      <td>0.017718</td>\n",
       "      <td>-0.000629</td>\n",
       "      <td>9.399934e-06</td>\n",
       "      <td>-5.012724e-08</td>\n",
       "    </tr>\n",
       "    <tr>\n",
       "      <th>4</th>\n",
       "      <td>0.000916</td>\n",
       "      <td>-0.000093</td>\n",
       "      <td>0.000003</td>\n",
       "      <td>-5.012724e-08</td>\n",
       "      <td>2.694059e-10</td>\n",
       "    </tr>\n",
       "  </tbody>\n",
       "</table>\n",
       "</div>"
      ],
      "text/plain": [
       "             0           1          2             3             4\n",
       "0  3604.846892 -351.223017  12.102697 -1.759690e-01  9.158120e-04\n",
       "1  -351.223017   34.653805  -1.207207  1.771806e-02 -9.296448e-05\n",
       "2    12.102697   -1.207207   0.042481 -6.291981e-04  3.328488e-06\n",
       "3    -0.175969    0.017718  -0.000629  9.399934e-06 -5.012724e-08\n",
       "4     0.000916   -0.000093   0.000003 -5.012724e-08  2.694059e-10"
      ]
     },
     "execution_count": 451,
     "metadata": {},
     "output_type": "execute_result"
    }
   ],
   "source": [
    "pd.DataFrame(res.mse_resid * np.linalg.inv(np.dot(X_poly.T, X_poly)))"
   ]
  },
  {
   "cell_type": "code",
   "execution_count": 355,
   "metadata": {
    "collapsed": false
   },
   "outputs": [],
   "source": [
    "fittedvalues = data[:,2]\n",
    "predict_mean_se  = data[:,3]\n",
    "predict_mean_ci_low, predict_mean_ci_upp = data[:,4:6].T\n",
    "predict_ci_low, predict_ci_upp = data[:,6:8].T"
   ]
  },
  {
   "cell_type": "code",
   "execution_count": 357,
   "metadata": {
    "collapsed": false
   },
   "outputs": [
    {
     "data": {
      "text/plain": [
       "array([  41.54283705,   80.89704971,  117.15399816, ...,   92.48402535,\n",
       "         92.48402535,  116.09618232])"
      ]
     },
     "execution_count": 357,
     "metadata": {},
     "output_type": "execute_result"
    }
   ],
   "source": [
    "predict_mean_ci_low"
   ]
  },
  {
   "cell_type": "code",
   "execution_count": 361,
   "metadata": {
    "collapsed": false
   },
   "outputs": [
    {
     "name": "stdout",
     "output_type": "stream",
     "text": [
      "                0             1\n",
      "const -301.878732 -6.642963e+01\n",
      "x1       9.703041  3.278800e+01\n",
      "x2      -0.967987 -1.597312e-01\n",
      "x3       0.000799  1.282223e-02\n",
      "x4      -0.000064  1.447431e-07\n"
     ]
    }
   ],
   "source": [
    "print res.conf_int(0.05)"
   ]
  },
  {
   "cell_type": "code",
   "execution_count": 360,
   "metadata": {
    "collapsed": false
   },
   "outputs": [
    {
     "data": {
      "text/html": [
       "<table class=\"simpletable\">\n",
       "<tr>\n",
       "    <td></td>       <th>coef</th>     <th>std err</th>      <th>t</th>      <th>P>|t|</th>  <th>[0.025</th>    <th>0.975]</th>  \n",
       "</tr>\n",
       "<tr>\n",
       "  <th>const</th> <td> -184.1542</td> <td>   60.040</td> <td>   -3.067</td> <td> 0.002</td> <td> -301.879</td> <td>  -66.430</td>\n",
       "</tr>\n",
       "<tr>\n",
       "  <th>x1</th>    <td>   21.2455</td> <td>    5.887</td> <td>    3.609</td> <td> 0.000</td> <td>    9.703</td> <td>   32.788</td>\n",
       "</tr>\n",
       "<tr>\n",
       "  <th>x2</th>    <td>   -0.5639</td> <td>    0.206</td> <td>   -2.736</td> <td> 0.006</td> <td>   -0.968</td> <td>   -0.160</td>\n",
       "</tr>\n",
       "<tr>\n",
       "  <th>x3</th>    <td>    0.0068</td> <td>    0.003</td> <td>    2.221</td> <td> 0.026</td> <td>    0.001</td> <td>    0.013</td>\n",
       "</tr>\n",
       "<tr>\n",
       "  <th>x4</th>    <td>-3.204e-05</td> <td> 1.64e-05</td> <td>   -1.952</td> <td> 0.051</td> <td>-6.42e-05</td> <td> 1.45e-07</td>\n",
       "</tr>\n",
       "</table>"
      ],
      "text/plain": [
       "<class 'statsmodels.iolib.table.SimpleTable'>"
      ]
     },
     "execution_count": 360,
     "metadata": {},
     "output_type": "execute_result"
    }
   ],
   "source": [
    "res.summary().tables[1]"
   ]
  },
  {
   "cell_type": "code",
   "execution_count": 476,
   "metadata": {
    "collapsed": false
   },
   "outputs": [],
   "source": [
    "bbbb = summary_table(res)"
   ]
  },
  {
   "cell_type": "code",
   "execution_count": 479,
   "metadata": {
    "collapsed": false
   },
   "outputs": [],
   "source": [
    "st, data, ss2 = summary_table(res, alpha=0.05)\n",
    "fittedvalues = data[:,2]\n",
    "predict_mean_se  = data[:,3]\n",
    "predict_mean_ci_low, predict_mean_ci_upp = data[:,4:6].T\n",
    "predict_ci_low, predict_ci_upp = data[:,6:8].T"
   ]
  },
  {
   "cell_type": "code",
   "execution_count": 860,
   "metadata": {
    "collapsed": false
   },
   "outputs": [],
   "source": [
    "#zip(predict_mean_ci_low, mean_l)"
   ]
  },
  {
   "cell_type": "code",
   "execution_count": 936,
   "metadata": {
    "collapsed": false
   },
   "outputs": [],
   "source": [
    "#zip(predict_mean_se, meanse)"
   ]
  },
  {
   "cell_type": "code",
   "execution_count": 941,
   "metadata": {
    "collapsed": false
   },
   "outputs": [],
   "source": [
    "class var_stat(object):\n",
    "    def __init__(self, model, X, y, fit=False, linear=True, cols=None):\n",
    "        if fit:\n",
    "            model.fit(X,y)\n",
    "        self.model = model\n",
    "        n_obs = X.shape[0]\n",
    "        n_pred = X.shape[1]\n",
    "        self.n_obs = n_obs\n",
    "        self.n_pred = n_pred\n",
    "        self.dof = n_obs - np.linalg.matrix_rank(X)\n",
    "        pred = model.predict(X)\n",
    "        if isinstance(X, pd.DataFrame):\n",
    "            newX = np.hstack((np.ones(n_obs).reshape(-1,1), X.values))\n",
    "            cols = ['Intercept']+list(X.columns)\n",
    "        else:\n",
    "            newX = np.hstack((np.ones(n_obs).reshape(-1,1), X))\n",
    "        self.copy_X = newX\n",
    "        self.RSS = self.sum_square(y, pred)\n",
    "        self.TSS = self.sum_square(y, y.mean())\n",
    "        self.MSE = self.RSS/float(n_obs-n_pred)\n",
    "        self.rsquare = 1.0 - (self.RSS/self.TSS)\n",
    "        self.rsquare_adj = 1.0 -((self.RSS/self.TSS)*((n_obs-1)/float(n_obs-n_pred-1)))\n",
    "        if linear:\n",
    "            self.params = np.append(model.intercept_,model.coef_)\n",
    "            self.cov_params = self.MSE * np.linalg.pinv(np.dot(newX.T,newX))\n",
    "            variance = self.cov_params.diagonal() \n",
    "            self.StdErr = np.sqrt(variance)\n",
    "            self.tValues = self.params/self.StdErr\n",
    "            self.pValues =[2*(1 - sc.stats.t.cdf(np.abs(i),(self.dof))) for i in self.tValues]\n",
    "            self.confInt = [self.params-1.95996398*self.StdErr, self.params+1.95996398*self.StdErr]\n",
    "            mydf = pd.DataFrame(index=cols)\n",
    "            mydf[\"Coefs\"],mydf[\"StdErr\"],mydf[\"tValues\"],mydf[\"pValue\"] = [self.params,self.StdErr,self.tValues,self.pValues]\n",
    "            mydf[\"[0.025\"] = self.confInt[0]\n",
    "            mydf[\"0.0975]\"] = self.confInt[1]\n",
    "            self.results = mydf\n",
    "    def sum_square(self, y, ypred):\n",
    "        return sum((y-ypred)**2)\n",
    "\n",
    "    def confidence_band(self, xnew, alpha=0.05):\n",
    "        pred = self.model.predict(xnew[:,1:])\n",
    "        predvar = self.MSE + (xnew * np.dot(self.cov_params, xnew.T).T).sum(1)\n",
    "        predstd = np.sqrt(predvar)\n",
    "        tppf = sc.stats.t.isf(alpha/2., self.dof)\n",
    "        interval_u = pred + tppf * predstd\n",
    "        interval_l = pred - tppf * predstd\n",
    "        return predstd, interval_l, interval_u\n",
    "    \n",
    "    def confidence_mean(self, xnew, alpha=0.05):\n",
    "        X0 = self.copy_X\n",
    "        cov_matrix = np.linalg.pinv(np.dot(X0.T, X0))\n",
    "        last_term = np.dot(cov_matrix, xnew.T)\n",
    "        #pred_mean_se = np.sqrt(((xnew * np.dot(self.cov_params, xnew.T).T).sum(1)))\n",
    "        pred_mean_se = np.sqrt(self.MSE * (xnew * last_term.T).sum(1))\n",
    "        tppf = sc.stats.t.isf(alpha/2.0, self.dof)\n",
    "        mean_u = pred + tppf * pred_mean_se\n",
    "        mean_l = pred - tppf * pred_mean_se\n",
    "        return pred_mean_se, mean_u, mean_l\n",
    "        # http://www.stats.uwo.ca/faculty/braun/ss3859/notes/Chapter4/ch4.pdf\n",
    "        #sx = (xnew - mean_x),2)\n",
    "        #confs = t * self.MSE*np.sqrt(1.0/n + /((np.sum(np.power(x,2)))-n*(np.power(mean_x,2)))))\n",
    "\n"
   ]
  },
  {
   "cell_type": "code",
   "execution_count": 942,
   "metadata": {
    "collapsed": false
   },
   "outputs": [],
   "source": [
    "bb = var_stat(reg,X_poly[:,1:],Wage.wage,  fit=True)"
   ]
  },
  {
   "cell_type": "code",
   "execution_count": 487,
   "metadata": {
    "collapsed": false
   },
   "outputs": [],
   "source": [
    "predvar, low_end, high_end = bb.confidence_band(poly.fit_transform(poly_array.reshape(-1,1)))"
   ]
  },
  {
   "cell_type": "code",
   "execution_count": 943,
   "metadata": {
    "collapsed": false
   },
   "outputs": [],
   "source": [
    "meanse, mean_u, mean_l = bb.confidence_mean(poly.fit_transform(poly_array.reshape(-1,1)))"
   ]
  },
  {
   "cell_type": "code",
   "execution_count": 932,
   "metadata": {
    "collapsed": false
   },
   "outputs": [],
   "source": [
    "meanse, mean_u, mean_l = bb.confidence_mean(X_poly)"
   ]
  },
  {
   "cell_type": "code",
   "execution_count": 559,
   "metadata": {
    "collapsed": false
   },
   "outputs": [],
   "source": [
    "from statsmodels.sandbox.regression.predstd import wls_prediction_std\n"
   ]
  },
  {
   "cell_type": "code",
   "execution_count": 186,
   "metadata": {
    "collapsed": false
   },
   "outputs": [
    {
     "data": {
      "text/plain": [
       "LinearRegression(copy_X=True, fit_intercept=True, n_jobs=1, normalize=False)"
      ]
     },
     "execution_count": 186,
     "metadata": {},
     "output_type": "execute_result"
    }
   ],
   "source": [
    "reg = linear_model.LinearRegression()\n",
    "reg.fit(Wage[['age','year']],Wage.wage)"
   ]
  },
  {
   "cell_type": "code",
   "execution_count": 91,
   "metadata": {
    "collapsed": false
   },
   "outputs": [],
   "source": [
    "regfit3 = smf.ols('wage ~ age + year', Wage).fit()\n"
   ]
  },
  {
   "cell_type": "code",
   "execution_count": 593,
   "metadata": {
    "collapsed": false
   },
   "outputs": [],
   "source": [
    "def pinv_extended(X, rcond=1e-15):\n",
    "    \"\"\"\n",
    "    Return the pinv of an array X as well as the singular values\n",
    "    used in computation.\n",
    "\n",
    "    Code adapted from numpy.\n",
    "    \"\"\"\n",
    "    X = np.asarray(X)\n",
    "    X = X.conjugate()\n",
    "    u, s, vt = np.linalg.svd(X, 0)\n",
    "    s_orig = np.copy(s)\n",
    "    m = u.shape[0]\n",
    "    n = vt.shape[1]\n",
    "    cutoff = rcond * np.maximum.reduce(s)\n",
    "    for i in range(min(n, m)):\n",
    "        if s[i] > cutoff:\n",
    "            s[i] = 1./s[i]\n",
    "        else:\n",
    "            s[i] = 0.\n",
    "    res = np.dot(np.transpose(vt), np.multiply(s[:, np.core.newaxis],\n",
    "                                               np.transpose(u)))\n",
    "    return res, s_orig    "
   ]
  },
  {
   "cell_type": "code",
   "execution_count": 397,
   "metadata": {
    "collapsed": false
   },
   "outputs": [
    {
     "data": {
      "text/plain": [
       "array([[ 4.,  4.],\n",
       "       [ 4.,  4.]])"
      ]
     },
     "execution_count": 397,
     "metadata": {},
     "output_type": "execute_result"
    }
   ],
   "source": [
    "def covar(X):\n",
    "    X = X.T\n",
    "    X0 = X - X.mean(axis=0)\n",
    "    return np.dot(X0.T,X0)/float(X.shape[0]-1)\n",
    "covar(X.T)"
   ]
  },
  {
   "cell_type": "code",
   "execution_count": 411,
   "metadata": {
    "collapsed": false
   },
   "outputs": [],
   "source": [
    "scaler = preprocessing.StandardScaler()\n",
    "X_polyv = scaler.fit_transform(X_poly)"
   ]
  },
  {
   "cell_type": "code",
   "execution_count": 415,
   "metadata": {
    "collapsed": false
   },
   "outputs": [
    {
     "data": {
      "text/plain": [
       "array([[ 1.        , -2.11556738, -1.58888784, -1.21239275, -0.94303812],\n",
       "       [ 1.        , -1.59565841, -1.33991193, -1.10184062, -0.89706997],\n",
       "       [ 1.        ,  0.224023  ,  0.09169954, -0.0325476 , -0.13319416],\n",
       "       ..., \n",
       "       [ 1.        , -1.33570392, -1.18874799, -1.02079396, -0.85660157],\n",
       "       [ 1.        , -1.33570392, -1.18874799, -1.02079396, -0.85660157],\n",
       "       [ 1.        ,  1.09053796,  1.07969918,  1.00837426,  0.89034719]])"
      ]
     },
     "execution_count": 415,
     "metadata": {},
     "output_type": "execute_result"
    }
   ],
   "source": [
    "X_polyv"
   ]
  },
  {
   "cell_type": "code",
   "execution_count": 437,
   "metadata": {
    "collapsed": false
   },
   "outputs": [
    {
     "data": {
      "text/plain": [
       "array([  3.18455803e-01,   3.27006132e+00,   5.56168553e-02,\n",
       "        -2.19710003e-03,   1.48455019e-05])"
      ]
     },
     "execution_count": 437,
     "metadata": {},
     "output_type": "execute_result"
    }
   ],
   "source": [
    "newX = X_poly\n",
    "XtX_inv = np.linalg.pinv(np.dot(newX.T,newX))\n",
    "y = Wage.wage.values\n",
    "newXt = newX.T\n",
    "bbb = np.dot(newXt,y)\n",
    "np.dot(XtX_inv, bbb)"
   ]
  },
  {
   "cell_type": "code",
   "execution_count": 404,
   "metadata": {
    "collapsed": false
   },
   "outputs": [],
   "source": [
    "bb = var_stat(reg,X_poly[:,1:],Wage.wage,  fit=True)"
   ]
  },
  {
   "cell_type": "code",
   "execution_count": 405,
   "metadata": {
    "collapsed": false
   },
   "outputs": [
    {
     "data": {
      "text/html": [
       "<div>\n",
       "<style>\n",
       "    .dataframe thead tr:only-child th {\n",
       "        text-align: right;\n",
       "    }\n",
       "\n",
       "    .dataframe thead th {\n",
       "        text-align: left;\n",
       "    }\n",
       "\n",
       "    .dataframe tbody tr th {\n",
       "        vertical-align: top;\n",
       "    }\n",
       "</style>\n",
       "<table border=\"1\" class=\"dataframe\">\n",
       "  <thead>\n",
       "    <tr style=\"text-align: right;\">\n",
       "      <th></th>\n",
       "      <th>Coefs</th>\n",
       "      <th>StdErr</th>\n",
       "      <th>tValues</th>\n",
       "      <th>pValue</th>\n",
       "      <th>[0.025</th>\n",
       "      <th>0.975]</th>\n",
       "    </tr>\n",
       "  </thead>\n",
       "  <tbody>\n",
       "    <tr>\n",
       "      <th>0</th>\n",
       "      <td>-184.154180</td>\n",
       "      <td>0.063711</td>\n",
       "      <td>-2890.456417</td>\n",
       "      <td>0.000000e+00</td>\n",
       "      <td>-184.279051</td>\n",
       "      <td>-184.029308</td>\n",
       "    </tr>\n",
       "    <tr>\n",
       "      <th>1</th>\n",
       "      <td>21.245521</td>\n",
       "      <td>0.652374</td>\n",
       "      <td>32.566465</td>\n",
       "      <td>0.000000e+00</td>\n",
       "      <td>19.966891</td>\n",
       "      <td>22.524150</td>\n",
       "    </tr>\n",
       "    <tr>\n",
       "      <th>2</th>\n",
       "      <td>-0.563859</td>\n",
       "      <td>0.042766</td>\n",
       "      <td>-13.184636</td>\n",
       "      <td>0.000000e+00</td>\n",
       "      <td>-0.647680</td>\n",
       "      <td>-0.480039</td>\n",
       "    </tr>\n",
       "    <tr>\n",
       "      <th>3</th>\n",
       "      <td>0.006811</td>\n",
       "      <td>0.000897</td>\n",
       "      <td>7.593674</td>\n",
       "      <td>4.130030e-14</td>\n",
       "      <td>0.005053</td>\n",
       "      <td>0.008569</td>\n",
       "    </tr>\n",
       "    <tr>\n",
       "      <th>4</th>\n",
       "      <td>-0.000032</td>\n",
       "      <td>0.000006</td>\n",
       "      <td>-5.299535</td>\n",
       "      <td>1.245090e-07</td>\n",
       "      <td>-0.000044</td>\n",
       "      <td>-0.000020</td>\n",
       "    </tr>\n",
       "  </tbody>\n",
       "</table>\n",
       "</div>"
      ],
      "text/plain": [
       "        Coefs    StdErr      tValues        pValue      [0.025      0.975]\n",
       "0 -184.154180  0.063711 -2890.456417  0.000000e+00 -184.279051 -184.029308\n",
       "1   21.245521  0.652374    32.566465  0.000000e+00   19.966891   22.524150\n",
       "2   -0.563859  0.042766   -13.184636  0.000000e+00   -0.647680   -0.480039\n",
       "3    0.006811  0.000897     7.593674  4.130030e-14    0.005053    0.008569\n",
       "4   -0.000032  0.000006    -5.299535  1.245090e-07   -0.000044   -0.000020"
      ]
     },
     "execution_count": 405,
     "metadata": {},
     "output_type": "execute_result"
    }
   ],
   "source": [
    "bb.results"
   ]
  },
  {
   "cell_type": "code",
   "execution_count": 429,
   "metadata": {
    "collapsed": false
   },
   "outputs": [
    {
     "data": {
      "text/plain": [
       "LinearRegression(copy_X=True, fit_intercept=True, n_jobs=1, normalize=False)"
      ]
     },
     "execution_count": 429,
     "metadata": {},
     "output_type": "execute_result"
    }
   ],
   "source": [
    "regv = linear_model.LinearRegression()\n",
    "regv.fit(X_poly,Wage.wage)"
   ]
  },
  {
   "cell_type": "code",
   "execution_count": 432,
   "metadata": {
    "collapsed": false
   },
   "outputs": [
    {
     "data": {
      "text/plain": [
       "(-184.15417973466867,\n",
       " array([  0.00000000e+00,   2.12455205e+01,  -5.63859312e-01,\n",
       "          6.81068771e-03,  -3.20383038e-05]))"
      ]
     },
     "execution_count": 432,
     "metadata": {},
     "output_type": "execute_result"
    }
   ],
   "source": [
    "regv.intercept_ , regv.coef_"
   ]
  },
  {
   "cell_type": "code",
   "execution_count": 770,
   "metadata": {
    "collapsed": true
   },
   "outputs": [],
   "source": [
    "xx = np.asarray([[1,0.6,200], [1,0.6,250], [1,0.6,400], [1,0.6,500], [1,0.6,600], [1,1.0,200], [1,1.0,250], [1,1.0,400], [1,1.0,500], [1,1.0,600], [1,2.6,200], [1,2.6,250], [1,2.6,400], [1,2.6,500], [1,2.6,600], [1,2.8,200], [1,2.8,250], [1,2.8,400], [1,2.8,500], [1,2.8,600]])\n",
    "yy = np.asarray([90.6, 82.7, 58.7, 43.2, 25.0, 127.1, 112.3, 19.6, 17.8, 9.1, 53.1, 52.0, 43.4, 42.4, 31.6, 40.9, 37.9, 27.5, 27.3, 19.0])"
   ]
  },
  {
   "cell_type": "code",
   "execution_count": 803,
   "metadata": {
    "collapsed": false
   },
   "outputs": [],
   "source": [
    "# coefficient\n",
    "coef = np.dot(np.linalg.inv(np.dot(xx.T,xx)), np.dot(xx.T, yy))"
   ]
  },
  {
   "cell_type": "code",
   "execution_count": 804,
   "metadata": {
    "collapsed": false
   },
   "outputs": [],
   "source": [
    "# predicted\n",
    "pred = np.dot(xx, coef)"
   ]
  },
  {
   "cell_type": "code",
   "execution_count": 819,
   "metadata": {
    "collapsed": false
   },
   "outputs": [],
   "source": [
    "# Mean square error\n",
    "MSE = ((yy - pred)**2).sum()/float(len(xx)-xx.shape[1])"
   ]
  },
  {
   "cell_type": "code",
   "execution_count": 824,
   "metadata": {
    "collapsed": false
   },
   "outputs": [
    {
     "data": {
      "text/plain": [
       "array([[  2.46870216e+02,  -4.19933390e+01,  -3.87501034e-01],\n",
       "       [ -4.19933390e+01,   2.39961937e+01,  -1.45693662e-16],\n",
       "       [ -3.87501034e-01,  -0.00000000e+00,   9.93592396e-04]])"
      ]
     },
     "execution_count": 824,
     "metadata": {},
     "output_type": "execute_result"
    }
   ],
   "source": [
    "# covariance matrix of the estimated coeff\n",
    "cov_params = MSE * np.linalg.inv(np.dot(xx.T,xx))\n",
    "cov_params"
   ]
  },
  {
   "cell_type": "code",
   "execution_count": null,
   "metadata": {
    "collapsed": false
   },
   "outputs": [],
   "source": [
    "co"
   ]
  },
  {
   "cell_type": "code",
   "execution_count": 796,
   "metadata": {
    "collapsed": false
   },
   "outputs": [
    {
     "data": {
      "text/plain": [
       "LinearRegression(copy_X=True, fit_intercept=True, n_jobs=1, normalize=False)"
      ]
     },
     "execution_count": 796,
     "metadata": {},
     "output_type": "execute_result"
    }
   ],
   "source": [
    "gg = linear_model.LinearRegression()\n",
    "gg.fit(xx,yy)"
   ]
  },
  {
   "cell_type": "code",
   "execution_count": 801,
   "metadata": {
    "collapsed": false
   },
   "outputs": [
    {
     "data": {
      "text/plain": [
       "array([ 88.85655113,  81.55152881,  59.63646184,  45.0264172 ,\n",
       "        30.41637256,  84.32178024,  77.01675792,  55.10169095,\n",
       "        40.49164631,  25.88160167,  66.18269668,  58.87767436,\n",
       "        36.9626074 ,  22.35256275,   7.74251811,  63.91531124,\n",
       "        56.61028892,  34.69522195,  20.08517731,   5.47513267])"
      ]
     },
     "execution_count": 801,
     "metadata": {},
     "output_type": "execute_result"
    }
   ],
   "source": [
    "gg.predict(xx)"
   ]
  },
  {
   "cell_type": "code",
   "execution_count": 10,
   "metadata": {
    "collapsed": false
   },
   "outputs": [],
   "source": [
    "from sklearn.preprocessing import PolynomialFeatures"
   ]
  },
  {
   "cell_type": "code",
   "execution_count": null,
   "metadata": {
    "collapsed": true
   },
   "outputs": [],
   "source": []
  }
 ],
 "metadata": {
  "anaconda-cloud": {},
  "kernelspec": {
   "display_name": "Python [default]",
   "language": "python",
   "name": "python2"
  },
  "language_info": {
   "codemirror_mode": {
    "name": "ipython",
    "version": 2
   },
   "file_extension": ".py",
   "mimetype": "text/x-python",
   "name": "python",
   "nbconvert_exporter": "python",
   "pygments_lexer": "ipython2",
   "version": "2.7.12"
  }
 },
 "nbformat": 4,
 "nbformat_minor": 1
}
